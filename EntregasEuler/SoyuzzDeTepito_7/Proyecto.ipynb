{
 "cells": [
  {
   "cell_type": "markdown",
   "id": "psychological-flexibility",
   "metadata": {},
   "source": [
    "<br><br><p style=\"text-align: center;\">\n",
    "<font size=\"6\">**Python Proyecto Equipo 1**</font></p>\n",
    "<br><br><br>\n",
    "<font size=\"5\">**Integrantes:**</font>\n",
    "<font size=\"4\"> <br>\n",
    "* Galindo Ruiz Abraham\n",
    "* García Miranda Athenas Marlene\n",
    "* García Serrano Héctor Mauricio\n",
    "* Huarte Nolasco Mario\n",
    "* Merino Hernández Ailyn\n",
    "* Minero Pineda Erick Rodrigo\n",
    "* Lira Navarro Juan Arturo\n",
    "    \n",
    "</font>"
   ]
  },
  {
   "cell_type": "markdown",
   "id": "printable-chrome",
   "metadata": {},
   "source": [
    "# Problema 1\n",
    "\n",
    "Si enumeramos todos los números naturales por debajo de 10 que son múltiplos de 3 o 5, obtenemos 3, 5, 6 y 9. La suma de estos múltiplos es 23.\n",
    "\n",
    "Encuentra la suma de todos los múltiplos de 3 o 5 por debajo de 1000."
   ]
  },
  {
   "cell_type": "code",
   "execution_count": 1,
   "id": "promotional-hormone",
   "metadata": {},
   "outputs": [
    {
     "name": "stdout",
     "output_type": "stream",
     "text": [
      "233168\n"
     ]
    }
   ],
   "source": [
    "suma=0\n",
    "for i in range(1000):\n",
    "    if i%5==0 or i%3==0:\n",
    "        suma+=i\n",
    "        \n",
    "print(suma)"
   ]
  },
  {
   "cell_type": "markdown",
   "id": "experimental-terry",
   "metadata": {},
   "source": [
    "# Problema 2\n",
    "Cada nuevo término de la secuencia de Fibonacci se genera sumando los dos términos anteriores. Al comenzar con 1 y 2, los primeros 10 términos son:\n",
    "\n",
    "1, 2, 3, 5, 8, 13, 21, 34, 55, 89, ...\n",
    "\n",
    "Considerando los términos en la secuencia de Fibonacci cuyos valores no excedan los cuatro millones, encuentre la suma de los términos pares."
   ]
  },
  {
   "cell_type": "code",
   "execution_count": 1,
   "id": "different-hypothesis",
   "metadata": {},
   "outputs": [
    {
     "output_type": "stream",
     "name": "stdout",
     "text": [
      "4613732\n"
     ]
    }
   ],
   "source": [
    "actual=2\n",
    "anterior=1\n",
    "sumaPares=0\n",
    "while actual<=4000000:\n",
    "    if actual%2==0:\n",
    "        sumaPares+=actual\n",
    "    actual+=anterior\n",
    "    anterior=actual-anterior\n",
    "print(sumaPares)"
   ]
  },
  {
   "cell_type": "markdown",
   "id": "smaller-singapore",
   "metadata": {},
   "source": [
    "# Problema 3\n",
    "Los factores primos de 13195 son 5, 7, 13 y 29.\n",
    "\n",
    "¿Cuál es el factor primo más grande del número 600851475143?"
   ]
  },
  {
   "cell_type": "code",
   "execution_count": 1,
   "id": "human-scotland",
   "metadata": {},
   "outputs": [
    {
     "name": "stdout",
     "output_type": "stream",
     "text": [
      "6857\n"
     ]
    }
   ],
   "source": [
    "#Definimos la constante\n",
    "numero=600851475143\n",
    "#Para buscar el divisor y por definición de número primo, iniciamos en 2\n",
    "i=2 \n",
    "#Iteramos para encontrar el divisor primo\n",
    "#Verificamos que el factor que estamos buscando sea menor al número en cuestión\n",
    "while i<=numero: \n",
    "    #este contador sirve para enumerar cuántos valores anteceden a \"i\" \n",
    "    #por lo tanto para cada valor de \"i\" se reinicia la cuenta\n",
    "    contador=0\n",
    "    #Para saber cuántos antecesores tiene el supuesto número primo (\"i\")..\n",
    "    for j in range(2,i):\n",
    "        #Contamos cuando el módulo entre \"i\" y el antecesor es diferente de cero\n",
    "        if i%j!=0:\n",
    "            contador=contador+1\n",
    "    #En la siguiente condición validamos que \"i\" es un número primo\n",
    "    #Primero verificamos que ninguno de los números que le anteceden lo puedan dividir\n",
    "    #Después calculamos el módulo del \"número\" entre \"i\" para corroborar que es factor \n",
    "    if contador==i-2 and numero%i==0 :\n",
    "        #Sabiendo que \"i\" es primo y a la vez factor de \"número\"\n",
    "        #consideramos momentaneamente a \"i\" como el factor primo más grande\n",
    "        primoMayor=i\n",
    "        #Validamos al primo más grande dividiendo al número original varias veces\n",
    "        #para esto necesitamos una bandera que detenga dicha división\n",
    "        bandera=0\n",
    "        while bandera==0:\n",
    "            numero=numero/primoMayor\n",
    "            #Debido a que \"i\" va en aumento y la división disminuye\n",
    "            #cuando éstos dos valores se encuentran\n",
    "            #quiere decir que encontramos al factor primo más grande\n",
    "            if numero%primoMayor!=0:\n",
    "                bandera=1\n",
    "    #buscamos el siguiente número primo           \n",
    "    i=i+1\n",
    "print(primoMayor)"
   ]
  },
  {
   "cell_type": "markdown",
   "id": "black-locator",
   "metadata": {},
   "source": [
    "# Problema 4\n",
    "\n",
    "A palindromic number reads the same both ways. The largest palindrome made from the product of two 2-digit numbers is 9009 = 91 × 99.\n",
    "\n",
    "Find the largest palindrome made from the product of two 3-digit numbers."
   ]
  },
  {
   "cell_type": "code",
   "execution_count": 1,
   "id": "stylish-jurisdiction",
   "metadata": {},
   "outputs": [
    {
     "name": "stdout",
     "output_type": "stream",
     "text": [
      "906609\n"
     ]
    }
   ],
   "source": [
    "bandera=0 #esta variable es para que no muestre mas palindromos mas que el mas grande\n",
    "#usamos dos for para obtener la multiplicacion ya que con solo la operacion de multiplicacion no podemos obtener\n",
    "#todos los numeros del 0 al 999*999\n",
    "for i in range(999,900,-1):\n",
    "    for j in range(999,900,-1):\n",
    "        #transformamos el numero en string para poder invertirlo sin problema\n",
    "        numero=str(i*j)\n",
    "        numero_rev=numero[::-1]#invertimos el numero para comprobar que sea palindromo\n",
    "        if(numero==numero_rev):#comparamos que sea palindromo\n",
    "            print(numero)\n",
    "            bandera=1\n",
    "            break\n",
    "    if bandera ==1:        \n",
    "        break"
   ]
  },
  {
   "cell_type": "markdown",
   "id": "according-plain",
   "metadata": {},
   "source": [
    "# Problema 6\n",
    "\n",
    "La suma de los cuadrados de los primeros diez números naturales es:\n",
    "\n",
    "<p style=\"text-align: center;\">$1^2 + 2^2 + ... + 10^2 = 385$</p>\n",
    "\n",
    "El cuadrado de la suma de los primeros diez números naturales es:\n",
    "\n",
    "<p style=\"text-align: center;\">$(1 + 2 + ... + 10)^2 = 55^2 = 3025$</p>\n",
    "\n",
    "\n",
    "Por tanto, la diferencia entre la suma de los cuadrados de los primeros diez números naturales y el cuadrado de la suma es:\n",
    "$3025 - 385 = 2640$.\n",
    "\n",
    "\n",
    "Calcula la diferencia entre la suma de los cuadrados de los primeros cien números naturales y el cuadrado de la suma."
   ]
  },
  {
   "cell_type": "code",
   "execution_count": 2,
   "id": "choice-nation",
   "metadata": {},
   "outputs": [
    {
     "name": "stdout",
     "output_type": "stream",
     "text": [
      "25164150\n"
     ]
    }
   ],
   "source": [
    "sumaCuadrados=0\n",
    "suma=0\n",
    "for i in range(101):\n",
    "    sumaCuadrados=sumaCuadrados+i**2\n",
    "    suma=suma+i\n",
    "diferencia=suma**2-sumaCuadrados\n",
    "print(diferencia)"
   ]
  },
  {
   "cell_type": "markdown",
   "id": "renewable-correspondence",
   "metadata": {},
   "source": [
    "# Problema 7\n",
    "\n",
    "Al enumerar los primeros seis números primos: 2, 3, 5, 7, 11 y 13, podemos ver que el sexto primo es 13.\n",
    "\n",
    "¿Cuál es el 1001° número primo?"
   ]
  },
  {
   "cell_type": "code",
   "execution_count": 1,
   "id": "cordless-operator",
   "metadata": {},
   "outputs": [
    {
     "name": "stdout",
     "output_type": "stream",
     "text": [
      "104743\n"
     ]
    }
   ],
   "source": [
    "numero=10001\n",
    "i=2\n",
    "primoAct=1\n",
    "while primoAct<=numero:\n",
    "    contador=0\n",
    "    j=2\n",
    "    while j<i:\n",
    "        if i%j!=0:\n",
    "            contador=contador+1\n",
    "        else:\n",
    "            break\n",
    "        j=j+1\n",
    "    if contador==i-2:\n",
    "        primo=i\n",
    "        primoAct=primoAct+1\n",
    "    i=i+1\n",
    "     \n",
    "print(primo)"
   ]
  },
  {
   "cell_type": "markdown",
   "id": "black-peace",
   "metadata": {},
   "source": [
    "# Problema 8\n",
    "\n",
    "Los cuatro dígitos adyacentes en el número de 1000 dígitos que tienen el mayor producto son 9 × 9 × 8 × 9 = 5832.\n",
    "\n",
    "<p style=\"text-align: center;\">73167176531330624919225119674426574742355349194934<br>\n",
    "96983520312774506326239578318016984801869478851843<br>\n",
    "85861560789112949495459501737958331952853208805511<br>\n",
    "12540698747158523863050715693290963295227443043557<br>\n",
    "66896648950445244523161731856403098711121722383113<br>\n",
    "62229893423380308135336276614282806444486645238749<br>\n",
    "30358907296290491560440772390713810515859307960866<br>\n",
    "70172427121883998797908792274921901699720888093776<br>\n",
    "65727333001053367881220235421809751254540594752243<br>\n",
    "52584907711670556013604839586446706324415722155397<br>\n",
    "53697817977846174064955149290862569321978468622482<br>\n",
    "83972241375657056057490261407972968652414535100474<br>\n",
    "82166370484403199890008895243450658541227588666881<br>\n",
    "16427171479924442928230863465674813919123162824586<br>\n",
    "17866458359124566529476545682848912883142607690042<br>\n",
    "24219022671055626321111109370544217506941658960408<br>\n",
    "07198403850962455444362981230987879927244284909188<br>\n",
    "84580156166097919133875499200524063689912560717606<br>\n",
    "05886116467109405077541002256983155200055935729725<br>\n",
    "71636269561882670428252483600823257530420752963450</p>\n",
    "\n",
    "Encuentra los trece dígitos adyacentes en el número de 1000 dígitos que tienen el mayor producto. ¿Cuál es el valor de este producto?"
   ]
  },
  {
   "cell_type": "code",
   "execution_count": 3,
   "id": "international-christianity",
   "metadata": {},
   "outputs": [
    {
     "name": "stdout",
     "output_type": "stream",
     "text": [
      "Producto:  23514624000\n",
      "Numeros adyacentes:  ['5', '5', '7', '6', '6', '8', '9', '6', '6', '4', '8', '9', '5']\n"
     ]
    }
   ],
   "source": [
    "digitos=\"7316717653133062491922511967442657474235534919493496983520312774506326239578318016984801869478851843858615607891129494954595017379583319528532088055111254069874715852386305071569329096329522744304355766896648950445244523161731856403098711121722383113622298934233803081353362766142828064444866452387493035890729629049156044077239071381051585930796086670172427121883998797908792274921901699720888093776657273330010533678812202354218097512545405947522435258490771167055601360483958644670632441572215539753697817977846174064955149290862569321978468622482839722413756570560574902614079729686524145351004748216637048440319989000889524345065854122758866688116427171479924442928230863465674813919123162824586178664583591245665294765456828489128831426076900422421902267105562632111110937054421750694165896040807198403850962455444362981230987879927244284909188845801561660979191338754992005240636899125607176060588611646710940507754100225698315520005593572972571636269561882670428252483600823257530420752963450\"\n",
    "\n",
    "valorMayor=0\n",
    "j=0\n",
    "digitosAd=[]\n",
    "while j+13<digitos.__len__():\n",
    "    mult=1\n",
    "    for i in range(j,j+13):\n",
    "        mult=mult*int(digitos[i])\n",
    "    if mult>valorMayor:\n",
    "        valorMayor=mult\n",
    "        digitosAd.clear()\n",
    "        for i in range(j,j+13):\n",
    "            digitosAd.append(digitos[i])\n",
    "    j=j+1\n",
    "print(\"Producto: \", valorMayor)\n",
    "print(\"Numeros adyacentes: \",digitosAd)"
   ]
  },
  {
   "cell_type": "markdown",
   "id": "textile-string",
   "metadata": {},
   "source": [
    "# Problema 9\n",
    "\n",
    "Un triplete pitagórico es un conjunto de tres números naturales, a <b <c, para los cuales:\n",
    "<p style=\"text-align: center;\">$a^2 + b^2 = c^2$</p>\n",
    "Por ejemplo: $3^2 + 4^2 = 9 + 16 = 25 = 5^2$\n",
    "\n",
    "\n",
    "Existe únicamente un triplete pitagórico para el cual $a + b + c = 1000$.<br>\n",
    "Encuentre el producto $abc$."
   ]
  },
  {
   "cell_type": "code",
   "execution_count": 1,
   "id": "advisory-anger",
   "metadata": {},
   "outputs": [
    {
     "name": "stdout",
     "output_type": "stream",
     "text": [
      "a =  200 , b =  375 , c =  425.0\n",
      "abc =  31875000.0\n"
     ]
    }
   ],
   "source": [
    "lim=1000\n",
    "i=1\n",
    "bandera=0\n",
    "while i<lim:\n",
    "    a=i\n",
    "    j=i+1\n",
    "    while j<(lim-a):\n",
    "        b=j\n",
    "        c=(a**2+b**2)**(1/2)\n",
    "        if c-int(c)==0 and a+b+c==1000:\n",
    "            bandera=1\n",
    "            break\n",
    "        j=j+1\n",
    "    if bandera==1:\n",
    "        break\n",
    "    i=i+1\n",
    "print(\"a = \",a,\", b = \",b,\", c = \",c)\n",
    "print(\"abc = \",a*b*c)"
   ]
  },
  {
   "cell_type": "markdown",
   "id": "patient-heather",
   "metadata": {},
   "source": [
    "# Problema 10\n",
    "\n",
    "\n",
    "La suma de los números primos por debajo de 10 es 2 + 3 + 5 + 7 = 17.\n",
    "\n",
    "Encuentra la suma de todos los números primos por debajo de dos millones."
   ]
  },
  {
   "cell_type": "code",
   "execution_count": 3,
   "id": "separated-police",
   "metadata": {},
   "outputs": [
    {
     "name": "stdout",
     "output_type": "stream",
     "text": [
      "Suma de los números primos inferiores a 2000000:  142913828922\n",
      "Tiempo de cálculo (hh:mm:ss.ms) 1:14:12.063506\n"
     ]
    }
   ],
   "source": [
    "from datetime import datetime \n",
    "start_time = datetime.now() \n",
    "lim=2000001\n",
    "numeros=[]\n",
    "for x in range(3,lim,2):\n",
    "    if x%3!=0 :\n",
    "        numeros.append(x)\n",
    "        if  x%5==0 or x%7==0 or x%11==0 or x%13==0 or x%17==0 or x%19==0:\n",
    "            numeros.remove(x)\n",
    "\n",
    "suma=77\n",
    "while numeros[0]<= lim ** (0.5):\n",
    "    suma+=numeros[0]\n",
    "    multiplos=[]\n",
    "    k=numeros[0]\n",
    "    multiplo=numeros[0]\n",
    "    aux=numeros[0]\n",
    "    while multiplo<lim:\n",
    "        if multiplo in numeros:\n",
    "            numeros.remove(multiplo)\n",
    "        multiplo=aux*k\n",
    "        k=k+1\n",
    "for x in range (len(numeros)):\n",
    "    suma+=numeros[x]\n",
    "print(\"Suma de los números primos inferiores a 2000000: \",suma)\n",
    "print('Tiempo de cálculo (hh:mm:ss.ms) {}'.format(datetime.now() - start_time))"
   ]
  },
  {
   "cell_type": "code",
   "execution_count": null,
   "id": "constant-reserve",
   "metadata": {},
   "outputs": [],
   "source": []
  }
 ],
 "metadata": {
  "kernelspec": {
   "display_name": "Python 3",
   "language": "python",
   "name": "python3"
  },
  "language_info": {
   "codemirror_mode": {
    "name": "ipython",
    "version": 3
   },
   "file_extension": ".py",
   "mimetype": "text/x-python",
   "name": "python",
   "nbconvert_exporter": "python",
   "pygments_lexer": "ipython3",
   "version": "3.7.1-final"
  }
 },
 "nbformat": 4,
 "nbformat_minor": 5
}