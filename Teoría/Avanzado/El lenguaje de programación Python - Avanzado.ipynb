{
 "cells": [
  {
   "cell_type": "markdown",
   "metadata": {},
   "source": [
    "# El lenguaje de programación Python🐍 - Avanzado"
   ]
  },
  {
   "cell_type": "markdown",
   "metadata": {},
   "source": [
    " **<div style=\"text-align: right\"> Samuel Arturo Garrido Sánchez</div>**"
   ]
  },
  {
   "cell_type": "markdown",
   "metadata": {},
   "source": [
    "Python es un lenguaje de programación **multiparadigma**, muy útil para demasiadas ramas de la investigación, desarrollos y procesos. \n",
    "Su filosofía radica en un código legible que cualquier persona no enfocada en el área de programación, pueda comprender."
   ]
  },
  {
   "cell_type": "markdown",
   "metadata": {},
   "source": [
    "![](img/let.png)"
   ]
  },
  {
   "cell_type": "markdown",
   "metadata": {},
   "source": [
    "# Bibliotecas externas, necesario: pip\n",
    "\n",
    "El gestor de paquetes pip nos permitirá tener biblitecas de Python y podremos instalarlas con pip install <algo\\>\n",
    "\n",
    "- Para la instalación en: Windows\n",
    "\n",
    "Descarga el código de Pip en: https://bootstrap.pypa.io/get-pip.py\n",
    "luego córrelo con python3 get-pip.py\n",
    "\n",
    "- Para la instalación en: Mac\n",
    "\n",
    "easy_install pip\n",
    "o si ya lo instalaste por homebrew no hay problema. Viene incluido en brew install python3\n",
    "\n",
    "- Para la instalación en: GNU/Linux Ubuntu\n",
    "\n",
    "\n",
    "sudo apt install python3-pip"
   ]
  },
  {
   "cell_type": "code",
   "execution_count": 15,
   "metadata": {
    "scrolled": true
   },
   "outputs": [
    {
     "name": "stdout",
     "output_type": "stream",
     "text": [
      "[[37 40]\n",
      " [85 92]]\n"
     ]
    }
   ],
   "source": [
    "import numpy.matlib \n",
    "import numpy as np \n",
    "\n",
    "##Producto punto entre 2 matrices\n",
    "a = np.array([[1,2],[3,4]]) \n",
    "b = np.array([[11,12],[13,14]]) \n",
    "print(np.dot(a,b))"
   ]
  },
  {
   "cell_type": "code",
   "execution_count": 17,
   "metadata": {
    "scrolled": true
   },
   "outputs": [
    {
     "name": "stdout",
     "output_type": "stream",
     "text": [
      "[[  1   2   3 400]\n",
      " [  4   5   6 800]]\n"
     ]
    }
   ],
   "source": [
    "#Añadir una columna\n",
    "\n",
    "import numpy\n",
    " \n",
    "a = numpy.array([[1, 2, 3], [4, 5, 6]])\n",
    " \n",
    "b = numpy.array([[400], [800]])\n",
    " \n",
    "nuevaMatriz = numpy.append(a, b, axis = 1)\n",
    " \n",
    "print(nuevaMatriz)"
   ]
  },
  {
   "cell_type": "code",
   "execution_count": 1,
   "metadata": {
    "scrolled": false
   },
   "outputs": [
    {
     "name": "stdout",
     "output_type": "stream",
     "text": [
      "[[ 1  2  3]\n",
      " [ 4  5  6]\n",
      " [50 60 70]]\n"
     ]
    },
    {
     "ename": "NameError",
     "evalue": "name 'np' is not defined",
     "output_type": "error",
     "traceback": [
      "\u001b[0;31m---------------------------------------------------------------------------\u001b[0m",
      "\u001b[0;31mNameError\u001b[0m                                 Traceback (most recent call last)",
      "\u001b[0;32m<ipython-input-1-8c302e8af19c>\u001b[0m in \u001b[0;36m<module>\u001b[0;34m()\u001b[0m\n\u001b[1;32m      8\u001b[0m \u001b[0;34m\u001b[0m\u001b[0m\n\u001b[1;32m      9\u001b[0m \u001b[0mprint\u001b[0m\u001b[0;34m(\u001b[0m\u001b[0mnuevaMatriz\u001b[0m\u001b[0;34m)\u001b[0m\u001b[0;34m\u001b[0m\u001b[0m\n\u001b[0;32m---> 10\u001b[0;31m \u001b[0mx\u001b[0m \u001b[0;34m=\u001b[0m \u001b[0mnp\u001b[0m\u001b[0;34m.\u001b[0m\u001b[0marray\u001b[0m\u001b[0;34m(\u001b[0m\u001b[0;34m[\u001b[0m\u001b[0;34m[\u001b[0m\u001b[0;36m1\u001b[0m\u001b[0;34m,\u001b[0m\u001b[0;36m2\u001b[0m\u001b[0;34m,\u001b[0m\u001b[0;36m3\u001b[0m\u001b[0;34m]\u001b[0m\u001b[0;34m,\u001b[0m \u001b[0;34m[\u001b[0m\u001b[0;36m4\u001b[0m\u001b[0;34m,\u001b[0m\u001b[0;36m5\u001b[0m\u001b[0;34m,\u001b[0m\u001b[0;36m6\u001b[0m\u001b[0;34m]\u001b[0m\u001b[0;34m]\u001b[0m\u001b[0;34m)\u001b[0m\u001b[0;34m\u001b[0m\u001b[0m\n\u001b[0m\u001b[1;32m     11\u001b[0m \u001b[0my\u001b[0m \u001b[0;34m=\u001b[0m \u001b[0mnp\u001b[0m\u001b[0;34m.\u001b[0m\u001b[0marray\u001b[0m\u001b[0;34m(\u001b[0m\u001b[0;34m[\u001b[0m\u001b[0;34m[\u001b[0m\u001b[0;36m4\u001b[0m\u001b[0;34m,\u001b[0m\u001b[0;36m5\u001b[0m\u001b[0;34m,\u001b[0m\u001b[0;36m6\u001b[0m\u001b[0;34m]\u001b[0m\u001b[0;34m,\u001b[0m \u001b[0;34m[\u001b[0m\u001b[0;36m1\u001b[0m\u001b[0;34m,\u001b[0m\u001b[0;36m2\u001b[0m\u001b[0;34m,\u001b[0m\u001b[0;36m3\u001b[0m\u001b[0;34m]\u001b[0m\u001b[0;34m]\u001b[0m\u001b[0;34m)\u001b[0m\u001b[0;34m\u001b[0m\u001b[0m\n\u001b[1;32m     12\u001b[0m \u001b[0mnp\u001b[0m\u001b[0;34m.\u001b[0m\u001b[0mcross\u001b[0m\u001b[0;34m(\u001b[0m\u001b[0mx\u001b[0m\u001b[0;34m,\u001b[0m \u001b[0my\u001b[0m\u001b[0;34m)\u001b[0m\u001b[0;34m\u001b[0m\u001b[0m\n",
      "\u001b[0;31mNameError\u001b[0m: name 'np' is not defined"
     ]
    }
   ],
   "source": [
    "# Nueva fila\n",
    "\n",
    "import numpy\n",
    " \n",
    "a = numpy.array([[1, 2, 3], [4, 5, 6]])\n",
    " \n",
    "nuevaMatriz = numpy.append(a, [[50, 60, 70]], axis = 0)\n",
    " \n",
    "print(nuevaMatriz)\n",
    "x = np.array([[1,2,3], [4,5,6]])\n",
    "y = np.array([[4,5,6], [1,2,3]])\n",
    "np.cross(x, y)"
   ]
  },
  {
   "cell_type": "markdown",
   "metadata": {},
   "source": [
    "## Llamar a bibliotecas externas : Matplolib 🎹\n",
    "\n",
    "Matplotlib es una biblioteca para la generación de gráficos a partir de datos contenidos en listas o arrays en el lenguaje de programación Python y su extensión matemática NumPy.\n",
    "\n",
    "$$ f(x) = x^2$$#Producto cruz\n"
   ]
  },
  {
   "cell_type": "code",
   "execution_count": 26,
   "metadata": {
    "scrolled": false
   },
   "outputs": [
    {
     "data": {
      "image/png": "[encoded data removed]",
      "text/plain": [
       "<Figure size 432x288 with 1 Axes>"
      ]
     },
     "metadata": {},
     "output_type": "display_data"
    }
   ],
   "source": [
    "import matplotlib.pyplot as plt\n",
    "x = [2,4,6,7,9,13,19,26,29,31,36,40,48,51,57,67,69,71,78,88]\n",
    "y = [54,72,43,2,8,98,109,5,35,28,48,83,94,84,73,11,464,75,200,54]\n",
    "plt.scatter(x,y)\n",
    "plt.show()"
   ]
  },
  {
   "cell_type": "code",
   "execution_count": 92,
   "metadata": {
    "scrolled": false
   },
   "outputs": [
    {
     "data": {
      "text/plain": [
       "[<matplotlib.lines.Line2D at 0x116f78390>]"
      ]
     },
     "execution_count": 92,
     "metadata": {},
     "output_type": "execute_result"
    },
    {
     "data": {
      "image/png": "[encoded data removed]",
      "text/plain": [
       "<Figure size 432x288 with 1 Axes>"
      ]
     },
     "metadata": {},
     "output_type": "display_data"
    }
   ],
   "source": [
    "plt.plot([4,8,13,17,20],[54, 67, 98, 78, 45],'b--d')"
   ]
  },
  {
   "cell_type": "code",
   "execution_count": 27,
   "metadata": {
    "scrolled": false
   },
   "outputs": [
    {
     "data": {
      "image/png": "[encoded data removed]",
      "text/plain": [
       "<Figure size 432x288 with 1 Axes>"
      ]
     },
     "metadata": {},
     "output_type": "display_data"
    }
   ],
   "source": [
    "import matplotlib.pyplot as plt\n",
    "x = [2,4,6,5,42,543,5,3,73,64,42,97,63,76,63,8,73,97,23,45,56,89,45,3,23,2,5,78,23,56,67,78,8,3,78,34,67,23,324,234,43,544,54,33,223,443,444,234,76,432,233,23,232,243,222,221,254,222,276,300,353,354,387,364,309]\n",
    "num_bins = 6\n",
    "n, bins, patches = plt.hist(x, num_bins, facecolor = 'green')\n",
    "plt.show()"
   ]
  },
  {
   "cell_type": "code",
   "execution_count": 91,
   "metadata": {},
   "outputs": [
    {
     "data": {
      "image/png": "[encoded data removed]",
      "text/plain": [
       "<Figure size 432x288 with 1 Axes>"
      ]
     },
     "metadata": {},
     "output_type": "display_data"
    }
   ],
   "source": [
    "import matplotlib.pyplot as plt\n",
    "plt.plot((4,8,13,17,20),(54, 67, 98, 78, 45))\n",
    "plt.show()"
   ]
  },
  {
   "cell_type": "code",
   "execution_count": 2,
   "metadata": {},
   "outputs": [
    {
     "ename": "NameError",
     "evalue": "name 'np' is not defined",
     "output_type": "error",
     "traceback": [
      "\u001b[0;31m---------------------------------------------------------------------------\u001b[0m",
      "\u001b[0;31mNameError\u001b[0m                                 Traceback (most recent call last)",
      "\u001b[0;32m<ipython-input-2-07535c21442d>\u001b[0m in \u001b[0;36m<module>\u001b[0;34m()\u001b[0m\n\u001b[0;32m----> 1\u001b[0;31m \u001b[0ma\u001b[0m \u001b[0;34m=\u001b[0m \u001b[0mnp\u001b[0m\u001b[0;34m.\u001b[0m\u001b[0marray\u001b[0m\u001b[0;34m(\u001b[0m\u001b[0;34m[\u001b[0m\u001b[0;36m1\u001b[0m\u001b[0;34m,\u001b[0m \u001b[0;36m2\u001b[0m\u001b[0;34m,\u001b[0m \u001b[0;36m3\u001b[0m\u001b[0;34m]\u001b[0m\u001b[0;34m)\u001b[0m  \u001b[0;31m# Create a rank 1 array\u001b[0m\u001b[0;34m\u001b[0m\u001b[0m\n\u001b[0m\u001b[1;32m      2\u001b[0m \u001b[0mprint\u001b[0m\u001b[0;34m(\u001b[0m\u001b[0mtype\u001b[0m\u001b[0;34m(\u001b[0m\u001b[0ma\u001b[0m\u001b[0;34m)\u001b[0m\u001b[0;34m,\u001b[0m \u001b[0ma\u001b[0m\u001b[0;34m.\u001b[0m\u001b[0mshape\u001b[0m\u001b[0;34m,\u001b[0m \u001b[0ma\u001b[0m\u001b[0;34m[\u001b[0m\u001b[0;36m0\u001b[0m\u001b[0;34m]\u001b[0m\u001b[0;34m,\u001b[0m \u001b[0ma\u001b[0m\u001b[0;34m[\u001b[0m\u001b[0;36m1\u001b[0m\u001b[0;34m]\u001b[0m\u001b[0;34m,\u001b[0m \u001b[0ma\u001b[0m\u001b[0;34m[\u001b[0m\u001b[0;36m2\u001b[0m\u001b[0;34m]\u001b[0m\u001b[0;34m)\u001b[0m\u001b[0;34m\u001b[0m\u001b[0m\n\u001b[1;32m      3\u001b[0m \u001b[0ma\u001b[0m\u001b[0;34m[\u001b[0m\u001b[0;36m0\u001b[0m\u001b[0;34m]\u001b[0m \u001b[0;34m=\u001b[0m \u001b[0;36m5\u001b[0m                 \u001b[0;31m# Change an element of the array\u001b[0m\u001b[0;34m\u001b[0m\u001b[0m\n\u001b[1;32m      4\u001b[0m \u001b[0mprint\u001b[0m\u001b[0;34m(\u001b[0m\u001b[0ma\u001b[0m\u001b[0;34m)\u001b[0m\u001b[0;34m\u001b[0m\u001b[0m\n",
      "\u001b[0;31mNameError\u001b[0m: name 'np' is not defined"
     ]
    }
   ],
   "source": [
    "a = np.array([1, 2, 3])  # Create a rank 1 array\n",
    "print(type(a), a.shape, a[0], a[1], a[2])\n",
    "a[0] = 5                 # Change an element of the array\n",
    "print(a)                  "
   ]
  },
  {
   "cell_type": "markdown",
   "metadata": {},
   "source": [
    "## Ejemplo de métodos numéricos 🍦"
   ]
  },
  {
   "cell_type": "markdown",
   "metadata": {},
   "source": [
    "**<span style=\"color:red\"> ** IMPORTANTE ** </span>**\n",
    "\n",
    "Para escribir una ecuación tienes que separar todo y multiplicar con \\*:  \n",
    "f=2x+3 ❌     \n",
    "f = 2*x + 3 ✅\n",
    "\n",
    "Para poner una potencia por ejemplo $2^3$ es poniendo doble asterísco. Ejemplo:\n",
    "$$f(x) = x^2 + 2x +1$$\n",
    "*Equivale a:*"
   ]
  },
  {
   "cell_type": "markdown",
   "metadata": {},
   "source": [
    "#### Si quieres ejecutar debes hacerlo desde el principio del documento o desde donde empiezas a definir o no te saldrá el resultado. Para ejecutar debes presionar ALT + Enter en tu teclado sobre la celda que vas a interpretar"
   ]
  },
  {
   "cell_type": "code",
   "execution_count": null,
   "metadata": {},
   "outputs": [],
   "source": [
    "import sympy as sy\n",
    "from sympy.functions import sin,cos\n",
    "import math\n",
    "import matplotlib.pyplot as plt\n",
    "x = sy.symbols('x')\n",
    "def taylor(funcion,c,n):\n",
    "    i = 0\n",
    "    p = 0\n",
    "    while i <= n:\n",
    "        p = p + (funcion.diff(x,i).subs(x,c))/(math.factorial(i))*(x-c)**i\n",
    "        i += 1\n",
    "    return p"
   ]
  },
  {
   "cell_type": "code",
   "execution_count": null,
   "metadata": {
    "scrolled": true
   },
   "outputs": [],
   "source": [
    "#CAMBIA LA FUNCION, en dónde está alineado taylor (este caso c=0) y cuál es el mayor exponenete que quieres (este es 4)\n",
    "p = taylor(cos(x),0,4)\n",
    "print(\"El polinomios de Taylor es: \",p)"
   ]
  },
  {
   "cell_type": "code",
   "execution_count": null,
   "metadata": {},
   "outputs": [],
   "source": [
    "#Coloca aquí la evaluación del mismo\n",
    "x=math.pi/3\n",
    "## COLOCA AQUÍ EL RESULTADO DEL ANTERIOR POR AHORA D:\n",
    "VALOROBTENIDO = x**4/24 - x**2/2 + 1\n",
    "print(\"El valor de taylor es: \",VALOROBTENIDO)"
   ]
  },
  {
   "cell_type": "markdown",
   "metadata": {},
   "source": [
    "## Método de bisección 📊"
   ]
  },
  {
   "cell_type": "code",
   "execution_count": null,
   "metadata": {},
   "outputs": [],
   "source": [
    "# Inserta la ecuación a buscar raíz\n",
    "fx = lambda x: x**2 + 9*x + 4"
   ]
  },
  {
   "cell_type": "code",
   "execution_count": null,
   "metadata": {},
   "outputs": [],
   "source": [
    "# Inserta tu rango y tolerancia\n",
    "a = -5\n",
    "b = 2\n",
    "tolera = 0.01"
   ]
  },
  {
   "cell_type": "code",
   "execution_count": null,
   "metadata": {},
   "outputs": [],
   "source": [
    "# PROCEDIMIENTO\n",
    "tabla = []\n",
    "tramo = b-a\n",
    "fa = fx(a)\n",
    "fb = fx(b)\n",
    "i = 1\n",
    "while (tramo>tolera):\n",
    "    c = (a+b)/2\n",
    "    fc = fx(c)\n",
    "    tabla.append([i,a,c,b,fa,fc,fb,tramo])\n",
    "    i = i+1\n",
    "                 \n",
    "    cambia = np.sign(fa)*np.sign(fc)\n",
    "    if (cambia<0):\n",
    "        b = c\n",
    "        fb = fc\n",
    "    else:\n",
    "        a=c\n",
    "        fa = fc\n",
    "    tramo = b-a\n",
    "c = (a+b)/2\n",
    "fc = fx(c)\n",
    "tabla.append([i,a,c,b,fa,fc,fb,tramo])\n",
    "tabla = np.array(tabla)\n",
    "raiz = c\n",
    "np.set_printoptions(precision = 4)\n",
    "print('i   a     c    b     f(a)   f(c)  f(b)  toler')\n",
    "n=len(tabla)\n",
    "for i in range(0,n,1):\n",
    "    unafila = tabla[i]\n",
    "    formato = '{:.0f}'+' '+(len(unafila)-1)*'{:.3f} '\n",
    "    unafila = formato.format(*unafila)\n",
    "    print(unafila)\n",
    "print('raiz: ',raiz)"
   ]
  },
  {
   "cell_type": "code",
   "execution_count": null,
   "metadata": {},
   "outputs": [],
   "source": [
    "import scipy.optimize as opt\n",
    "#Inserta tu función\n",
    "f1 = lambda x: x**3 + 4*x**2 - 10\n",
    "# Solo cambia el rango 1,2 y la tolerancia, no cambies el xtol o tronará\n",
    "print(opt.bisect(f1,1,2,xtol=0.001))"
   ]
  },
  {
   "cell_type": "markdown",
   "metadata": {},
   "source": [
    "### Método de Newton Raphson ⭐️"
   ]
  },
  {
   "cell_type": "code",
   "execution_count": null,
   "metadata": {},
   "outputs": [],
   "source": [
    "x=sy.symbols('x')\n",
    "#funcion\n",
    "funcion=sin(x) + cos(x)\n",
    "\n",
    "derivada=sy.diff(funcion,x)\n",
    "\n",
    "x_0=0\n",
    "xr=x_0\n",
    "\n",
    "ea=100/100\n",
    "\n",
    "es=0.001/100\n",
    "contador=-1\n",
    "print(\"i\\t   xi\\t     Error Absoluto Porcentual\")\n",
    "while ea>es:\n",
    "    xra=xr\n",
    "    contador+=1\n",
    "    newton_rhapson=x-(funcion/derivada)\n",
    "\n",
    "    xr=newton_rhapson.evalf(subs={x: xr})\n",
    "    \n",
    "    #error aproximado relativo porcentual\n",
    "    ea=sy.Abs(((xr-xra)/xr)*100)\n",
    "    #resultado\n",
    "    print(contador   ,xra, ea)"
   ]
  },
  {
   "cell_type": "markdown",
   "metadata": {},
   "source": [
    "## Método de la regla falsa."
   ]
  },
  {
   "cell_type": "markdown",
   "metadata": {},
   "source": [
    "El método de regla falsa o interpolación se basa en tener 2 limitantes o rango que sepamos que contienen a la raíz de la función. Su ecuación es:\n",
    "\n",
    "\n",
    "$$r\\in[a,b]$$\n",
    "\n",
    "\n",
    "$$ x_i = \\frac{f(a_i)bi - f(b_i)a_i}{f(a_i)-f(b_i)} $$"
   ]
  },
  {
   "cell_type": "code",
   "execution_count": null,
   "metadata": {},
   "outputs": [],
   "source": [
    "## Inserte la ecuación aquí\n",
    "x=sy.symbols('x')\n",
    "Px = lambda x: x**2 - 2*x - 10\n",
    "\n",
    "## Fija los rangos de a y b donde buscarán\n",
    "a = 2\n",
    "b = 6\n",
    "tolerancia = 0.1\n",
    "l = (Px(a)*b - Px(b)*a)/(Px(a)-Px(b))\n",
    "print(l)"
   ]
  },
  {
   "cell_type": "code",
   "execution_count": null,
   "metadata": {},
   "outputs": [],
   "source": [
    "def metodoFalso(f,a,b):\n",
    "    anterior = 0\n",
    "    error = 1\n",
    "    while(error>tolerancia):\n",
    "        l = (Px(a)*b - Px(b)*a)/(Px(a)-Px(b))\n",
    "        "
   ]
  },
  {
   "cell_type": "code",
   "execution_count": null,
   "metadata": {},
   "outputs": [],
   "source": []
  }
 ],
 "metadata": {
  "kernelspec": {
   "display_name": "Python 3",
   "language": "python",
   "name": "python3"
  },
  "language_info": {
   "codemirror_mode": {
    "name": "ipython",
    "version": 3
   },
   "file_extension": ".py",
   "mimetype": "text/x-python",
   "name": "python",
   "nbconvert_exporter": "python",
   "pygments_lexer": "ipython3",
   "version": "3.6.5"
  }
 },
 "nbformat": 4,
 "nbformat_minor": 2
}
