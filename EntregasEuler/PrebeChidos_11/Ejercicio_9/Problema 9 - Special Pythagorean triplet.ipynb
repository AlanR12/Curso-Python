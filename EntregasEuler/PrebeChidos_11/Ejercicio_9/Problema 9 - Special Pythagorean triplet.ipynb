{
 "cells": [
  {
   "cell_type": "markdown",
   "metadata": {},
   "source": [
    "# Special Pythagorean triplet\n",
    "\n",
    "Un Triplete Pitagórico se trata de la combinación de 3 números enteros que cumpla con la siguiente característica:\n",
    "\n",
    "\\begin{equation}\n",
    "    a^2 + b^2 = c^2\n",
    "\\end{equation}\n",
    "\n",
    "En donde debe cumplirse que:\n",
    "\\begin{equation}\n",
    "    a < b < c\n",
    "\\end{equation}\n",
    "\n",
    "\n",
    "Aquí tienes un ejemplo:\n",
    "\\begin{equation}\n",
    "    3^2 + 4^2 = 9 + 16 = 25 = 5^2\n",
    "\\end{equation}\n",
    "\n",
    "Pero existe un triplete especial en donde la suma de los tres números da como resultado 1000.\n",
    "\n",
    "\\begin{equation}\n",
    "    a + b + c = 1000\n",
    "\\end{equation}\n",
    "\n",
    "### Problema\n",
    "\n",
    "Es requerido encontrar el producto de los 3 números que cumplen la condición de dicho triplete."
   ]
  },
  {
   "cell_type": "markdown",
   "metadata": {},
   "source": [
    "### Solución\n",
    "\n",
    "Para el plantamiento de la solución que se realizó fue el siguiente:\n",
    "\n",
    "#### Función de verificación\n",
    "Primeramente se define una función para que realice un proceso de verificación para saber si una de las combinaciones es \n",
    "válida.\n",
    "\n",
    "Básicamente, esta función define si tres números cumplen con la condición de $a^2 + b^2 = c^2$, en dado caso que se cumpla, se muestra en pantalla los resultados y se retorna un **True** para que paren las iteraciones de los ciclos que generan las combinaciones de números."
   ]
  },
  {
   "cell_type": "code",
   "execution_count": 14,
   "metadata": {},
   "outputs": [],
   "source": [
    "def verificar(a,b,c):\n",
    "    if ((a**2)+(b**2)) == (c**2):\n",
    "        print(\"#\\tEl conjunto de los tres valores naturales que cumplen\\t\\t#\\n#\\tcon la condición son los siguientes:\\t\\t\\t\\t#\")\n",
    "        print(\"#\\t\\ta =\",a,\"\\t\\t\\t\\t\\t\\t#\")\n",
    "        print(\"#\\t\\tb =\",b,\"\\t\\t\\t\\t\\t\\t#\")\n",
    "        print(\"#\\t\\tc =\",c,\"\\t\\t\\t\\t\\t\\t#\")\n",
    "        print(\"#\\tAquí puede verse la comprobación con los valores indicados:\\t#\")\n",
    "        print(\"#\\ta^2 =\",(a**2),\"b^2 =\",(b**2),\"c^2 =\",(c**2),\"\\t\\t\\t\\t#\")\n",
    "        print(\"#\\ta^2 + b^2 =\",(a**2)+(b**2),\"\\t\\t\\t\\t\\t\\t#\")\n",
    "        print(\"#\\tEl resultado final es: \", (a*b*c),\"\\t\\t\\t\\t#\")\n",
    "        print(\"#                                                                       #\")\n",
    "        print(\"#########################################################################\")\n",
    "        return True\n",
    "    else:\n",
    "        return False"
   ]
  },
  {
   "cell_type": "markdown",
   "metadata": {},
   "source": [
    "#### Función de ejecución\n",
    "\n",
    "Para esta solución se propone una función que desarrolle las combinaciones a probar, en medida de esto, se manejaron 3 ciclos itereativos anidados. En donde cada uno de los límites se maneja mediante el requerimiento donde $a < b < c$.\n",
    "\n",
    "La idea principal es saber hasta que punto pueden llegar cada una de las variables donde se cumpla la condición.\n",
    "Ya que se busca iniciar la iteración con el número mayor, entonces el movimiento de las variables será algo como lo siguente:\n",
    "\n",
    "\\begin{equation}\n",
    "    [ 1, 2, 3 ] \\\\\n",
    "    [ 1, 2, 4 ] \\\\\n",
    "    [ 1, 2, 5 ] \\\\\n",
    "    [ 1, 2, 6 ] \\\\\n",
    "     ... \\\\\n",
    "    [ 1, 2, 995 ] \\\\\n",
    "    [ 1, 2, 996 ] \\\\\n",
    "    [ 1, 2, 997 ] \\\\\n",
    "    [ 1, 3, 4 ] \\\\\n",
    "\\end{equation}\n",
    "\n",
    "De forma general, las combinaciones que pasarán por la verificación serán aquellas combinaciones donde $a + b + c = 1000$, por lo que hay muchísimas combinaciones de números omitidas, en consecuencia, hace que el algoritmo tarde menos tiempo de ejecución."
   ]
  },
  {
   "cell_type": "code",
   "execution_count": 15,
   "metadata": {},
   "outputs": [],
   "source": [
    "def encontrar_triplete():\n",
    "    print(\"\\n#########################################################################\")\n",
    "    print(\"#                                                                       #\")\n",
    "    print(\"#\\tComenzó la búsqueda del triplete pitagórico especial!\\t\\t#\")\n",
    "    print(\"#                                                                       #\")\n",
    "    \n",
    "    # Como resultado base, se define que el éxito en la búsqueda es False para que en su momento pueda cambiar su valor y ser\n",
    "    # capaz de romper los ciclos iterativos que ya no son necesarios de ejecutar.\n",
    "    exito = False\n",
    "    \n",
    "    # Para el primer ciclo iterativo, se mantiene que los valores de \"a\" siempre estarán entre 1 y 332, pues si llega a un 333\n",
    "    # el requerimiento donde a + b + c YA NO es igual a 1000.\n",
    "    for a in range(1,333):\n",
    "        \n",
    "        # Para el caso del segundo ciclo, es necesario que siempre comience siendo una unidad mayor a la \"a\", por otro lado,\n",
    "        # para el caso de b los posibles valores válidos siempre estarán entre 2 y 499, ya que si \"b\" alcanza alguno de los \n",
    "        # valores fuera de ese rango ya no se cumpirían los requerimientos mencionados en el ciclo anterior.\n",
    "        for b in range(a+1,500):\n",
    "            \n",
    "            # En este último ciclo se maneja la misma estructura que los anteriores, pero este estará delimitado en un rango\n",
    "            # de 3 hasta 997.\n",
    "            for c in range(b+1,998):\n",
    "                \n",
    "                # Posteriormente, es necesario indicar que solo las combinaciones que sumen en total 1000 con las posibles \n",
    "                # cantidatas a ser \"verificadas\", por esto mismo es que si no se cumple es como solo se salta a la siguiente \n",
    "                # itereación con la palabra reservada \"continue\".\n",
    "                if a+b+c == 1000:\n",
    "                    \n",
    "                    # Ya que si una combinación si es contada como candidata, se manda a llamar a la función \"verificar\" con\n",
    "                    # aquella combinación de números en ese momento. Retornará un valor booleano, si este es un True\n",
    "                    # (referente a \"se trata de la solución al problema\") hará que se detengan los demás ciclos mediante la \n",
    "                    # palabra reservada \"break\".\n",
    "                    exito = verificar(a,b,c)\n",
    "                    if exito:\n",
    "                        break\n",
    "                else:\n",
    "                    continue\n",
    "            if exito:\n",
    "                break\n",
    "        if exito:\n",
    "            break"
   ]
  },
  {
   "cell_type": "markdown",
   "metadata": {},
   "source": [
    "#### Ejecución de la implementación propuesta\n",
    "\n",
    "Para la ejecución de este programa, es más que suficiente mandar a llamar a la función que implementa todo el algoritmo propuesto, ya que la función verificar se encargar de realizar la muestra de resultados."
   ]
  },
  {
   "cell_type": "code",
   "execution_count": 16,
   "metadata": {},
   "outputs": [
    {
     "name": "stdout",
     "output_type": "stream",
     "text": [
      "\n",
      "#########################################################################\n",
      "#                                                                       #\n",
      "#\tComenzó la búsqueda del triplete pitagórico especial!\t\t#\n",
      "#                                                                       #\n",
      "#\tEl conjunto de los tres valores naturales que cumplen\t\t#\n",
      "#\tcon la condición son los siguientes:\t\t\t\t#\n",
      "#\t\ta = 200 \t\t\t\t\t\t#\n",
      "#\t\tb = 375 \t\t\t\t\t\t#\n",
      "#\t\tc = 425 \t\t\t\t\t\t#\n",
      "#\tAquí puede verse la comprobación con los valores indicados:\t#\n",
      "#\ta^2 = 40000 b^2 = 140625 c^2 = 180625 \t\t\t\t#\n",
      "#\ta^2 + b^2 = 180625 \t\t\t\t\t\t#\n",
      "#\tEl resultado final es:  31875000 \t\t\t\t#\n",
      "#                                                                       #\n",
      "#########################################################################\n"
     ]
    }
   ],
   "source": [
    "encontrar_triplete()"
   ]
  }
 ],
 "metadata": {
  "kernelspec": {
   "display_name": "Python 3",
   "language": "python",
   "name": "python3"
  },
  "language_info": {
   "codemirror_mode": {
    "name": "ipython",
    "version": 3
   },
   "file_extension": ".py",
   "mimetype": "text/x-python",
   "name": "python",
   "nbconvert_exporter": "python",
   "pygments_lexer": "ipython3",
   "version": "3.6.5"
  }
 },
 "nbformat": 4,
 "nbformat_minor": 5
}
