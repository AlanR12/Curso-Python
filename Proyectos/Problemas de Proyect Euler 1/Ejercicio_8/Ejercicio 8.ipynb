{
 "cells": [
  {
   "cell_type": "markdown",
   "metadata": {},
   "source": [
    "# Ejercico 8"
   ]
  },
  {
   "cell_type": "markdown",
   "metadata": {},
   "source": [
    "### Encontrar los 13 numeros adyacentes que tenga el mayor producto.\n",
    "\n",
    "73167176531330624919225119674426574742355349194934 <br>\n",
    "96983520312774506326239578318016984801869478851843<br>\n",
    "85861560789112949495459501737958331952853208805511<br>\n",
    "12540698747158523863050715693290963295227443043557<br>\n",
    "66896648950445244523161731856403098711121722383113<br>\n",
    "62229893423380308135336276614282806444486645238749<br>\n",
    "30358907296290491560440772390713810515859307960866<br>\n",
    "70172427121883998797908792274921901699720888093776<br>\n",
    "65727333001053367881220235421809751254540594752243<br>\n",
    "52584907711670556013604839586446706324415722155397<br>\n",
    "53697817977846174064955149290862569321978468622482<br>\n",
    "83972241375657056057490261407972968652414535100474<br>\n",
    "82166370484403199890008895243450658541227588666881<br>\n",
    "16427171479924442928230863465674813919123162824586<br>\n",
    "17866458359124566529476545682848912883142607690042<br>\n",
    "24219022671055626321111109370544217506941658960408<br>\n",
    "07198403850962455444362981230987879927244284909188<br>\n",
    "84580156166097919133875499200524063689912560717606<br>\n",
    "05886116467109405077541002256983155200055935729725<br>\n",
    "71636269561882670428252483600823257530420752963450<br>"
   ]
  },
  {
   "cell_type": "code",
   "execution_count": 11,
   "metadata": {},
   "outputs": [
    {
     "name": "stdout",
     "output_type": "stream",
     "text": [
      "Producto:  5576689664895\n"
     ]
    }
   ],
   "source": [
    "#Se declara como variable global la lista que contiene los numeros\n",
    "lista= \"\\\n",
    "73167176531330624919225119674426574742355349194934\\\n",
    "96983520312774506326239578318016984801869478851843\\\n",
    "85861560789112949495459501737958331952853208805511\\\n",
    "12540698747158523863050715693290963295227443043557\\\n",
    "66896648950445244523161731856403098711121722383113\\\n",
    "62229893423380308135336276614282806444486645238749\\\n",
    "30358907296290491560440772390713810515859307960866\\\n",
    "70172427121883998797908792274921901699720888093776\\\n",
    "65727333001053367881220235421809751254540594752243\\\n",
    "52584907711670556013604839586446706324415722155397\\\n",
    "53697817977846174064955149290862569321978468622482\\\n",
    "83972241375657056057490261407972968652414535100474\\\n",
    "82166370484403199890008895243450658541227588666881\\\n",
    "16427171479924442928230863465674813919123162824586\\\n",
    "17866458359124566529476545682848912883142607690042\\\n",
    "24219022671055626321111109370544217506941658960408\\\n",
    "07198403850962455444362981230987879927244284909188\\\n",
    "84580156166097919133875499200524063689912560717606\\\n",
    "05886116467109405077541002256983155200055935729725\\\n",
    "71636269561882670428252483600823257530420752963450\"\n",
    "\n",
    "#Se define una funcion que recibe la posicion actual, la posicion del producto mayor y el producto más grande hasta el momento\n",
    "def mayorProducto(posicion,Mayor_producto, posicionMayor):\n",
    "    longitud=13 #Se declara una variable con la longitud que buscamos\n",
    "    if posicion + longitud < len(lista): #Se comprueba que exista una cadena de 13\n",
    "        producto=1                       #Se declara el producto en 1\n",
    "        for i in range(longitud):        #un ciclo que recorrera los 13 numeros\n",
    "            num=int(lista[posicion+i])   #Se transforma el nuero a entero(se declararon como cadena de texto)\n",
    "            producto *= num              #Se calcula el producto\n",
    "        if producto>Mayor_producto:      #Se comprueba si el producto es mayor que el anterior calculado\n",
    "            Mayor_producto= producto     #Si es mayor el producto, entonces la variable Mayor_producto adquiere este nuevo valor\n",
    "            posicionMayor=posicion       #La posicion también se guarda para posteriormente imprimir los numeros\n",
    "        posicion+=1                      #Se recorre en 1 la posicion para probar la nueva cadena\n",
    "        mayorProducto(posicion,Mayor_producto, posicionMayor)        #Se llama nuevamente la funcion\n",
    "    else:                                #Si ya no es posible generar una nueva cadena entra en esta condicion\n",
    "        print('Los numeros que generan el mayor producto: ',lista[posicionMayor:posicionMayor+longitud]) #Se imprime  la cadena de números\n",
    "        \n",
    "posicion_actual=0\n",
    "posicionMayor=0\n",
    "Mayor_producto=-1\n",
    "mayorProducto(posicion_actual, Mayor_producto, posicionMayor)"
   ]
  }
 ],
 "metadata": {
  "kernelspec": {
   "display_name": "Python 3",
   "language": "python",
   "name": "python3"
  },
  "language_info": {
   "codemirror_mode": {
    "name": "ipython",
    "version": 3
   },
   "file_extension": ".py",
   "mimetype": "text/x-python",
   "name": "python",
   "nbconvert_exporter": "python",
   "pygments_lexer": "ipython3",
   "version": "3.8.5"
  }
 },
 "nbformat": 4,
 "nbformat_minor": 4
}
