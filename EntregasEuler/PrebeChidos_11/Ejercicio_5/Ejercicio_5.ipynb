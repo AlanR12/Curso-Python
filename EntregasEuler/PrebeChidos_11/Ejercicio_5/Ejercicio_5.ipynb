{
 "cells": [
  {
   "cell_type": "code",
   "execution_count": 6,
   "metadata": {},
   "outputs": [],
   "source": [
    "\"\"\"\n",
    "2520 is the smallest number that can be divided by each of the numbers from 1 to 10 without any remainder.\n",
    "\n",
    "What is the smallest positive number that is evenly divisible by all of the numbers from 1 to 20?\n",
    "\"\"\"\n",
    "\n",
    "#El entero positivo más pequeño que es divisible por los numeros de 1 a 20\n",
    "#O sea, el mínimo común múltiplo\n",
    "#Podemos utilizar el máximo común divisor para encontrarlo\n",
    "#El máximo común divisor puede encontrarse con el algoritmo Euclidiano\n",
    "\n",
    "\"\"\"\n",
    "El algoritmo Euclidiano o algoritmo de Euclides es una técnica que nos permite \n",
    "encontrar rapidamente el máximo común divisor de dos enteros dados a,b.\n",
    "1. Se divide el número mayor entre el menor\n",
    "2. Si la división es exacta, el divisor es el MCD\n",
    "3. Si no es exacta, dividimos el divisor entre el resto obtenido y continua\n",
    "   hasta obtener una división exacta. El MCD es el último divisor.\n",
    "\"\"\"\n",
    "\n",
    "#Implementando el algoritmo Euclidiano para Maximo Comun Divisor\n",
    "def algoritmo_Euclides(numerador,denominador):\n",
    "    divResiduo = numerador%denominador       #Si es 0, la división es exacta y paramos\n",
    "    while divResiduo != 0:                   #Mientras el residuo no sea 0\n",
    "        numerador = denominador              #El denominador se vuelve numerador\n",
    "        denominador = divResiduo             #El residuo se vuelve el denominador\n",
    "        divResiduo = numerador % denominador # Efectuamos la division de numerador y denominador.\n",
    "    return denominador        #cuando el residuo sea 0, entonces retornamos el MCD\n"
   ]
  },
  {
   "cell_type": "code",
   "execution_count": 13,
   "metadata": {},
   "outputs": [
    {
     "name": "stdout",
     "output_type": "stream",
     "text": [
      "5\n",
      "7\n",
      "9\n"
     ]
    }
   ],
   "source": [
    "#Probando el algoritmo de Euclides para ontener el MINIMO COMUN DIVISOR\n",
    "print(algoritmo_Euclides(15,10)) #Debe ser 5\n",
    "print(algoritmo_Euclides(21,28)) #Debe ser 7\n",
    "print(algoritmo_Euclides(18,81)) #Debe ser 9"
   ]
  },
  {
   "cell_type": "code",
   "execution_count": 15,
   "metadata": {},
   "outputs": [
    {
     "name": "stdout",
     "output_type": "stream",
     "text": [
      "El mínimo común múltiplo es:  232792560.0\n"
     ]
    }
   ],
   "source": [
    "#Implementando el algoritmo del minimo común múltiplo\n",
    "\"\"\"\n",
    "La formula para obtener el minimo común multiplo entre dos numeros se ve de la forma\n",
    "MCM = (A*B)/MCD(A,B)\n",
    "\"\"\"\n",
    "\n",
    "resultado = 1              #Inicializamos la variable, asignamos 1 porque no modifica el resultado inicial.\n",
    "for i in range(1,21):      # Rango de 1 a 20, excluye el 21\n",
    "    min_com_div = algoritmo_Euclides(i, resultado) #El MCD entre el iterador i y resultado\n",
    "    resultado = (resultado * i)/ min_com_div       #Obtenemos el MCM para el valor i y el resultado de la iteracion\n",
    "print(\"El mínimo común múltiplo es: \", resultado)  #Cuando termina imprime el resultado final.\n",
    "\n",
    "#Ojo, la variable resultado cambia de valor con cada iteración y por consecuencia cambia el resultado final."
   ]
  },
  {
   "cell_type": "code",
   "execution_count": null,
   "metadata": {},
   "outputs": [],
   "source": []
  }
 ],
 "metadata": {
  "kernelspec": {
   "display_name": "Python 3",
   "language": "python",
   "name": "python3"
  },
  "language_info": {
   "codemirror_mode": {
    "name": "ipython",
    "version": 3
   },
   "file_extension": ".py",
   "mimetype": "text/x-python",
   "name": "python",
   "nbconvert_exporter": "python",
   "pygments_lexer": "ipython3",
   "version": "3.6.5"
  }
 },
 "nbformat": 4,
 "nbformat_minor": 4
}
