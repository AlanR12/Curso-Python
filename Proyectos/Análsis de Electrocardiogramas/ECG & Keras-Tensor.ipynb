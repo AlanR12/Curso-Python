{
 "cells": [
  {
   "cell_type": "markdown",
   "metadata": {},
   "source": [
    "# ♥️ Clasifica Aritmias utilizando RNC 🩺"
   ]
  },
  {
   "cell_type": "markdown",
   "metadata": {},
   "source": [
    "> Artículo: \n",
    "ECG arrhythmia classification using a 2-D convolutional neural network \n",
    "Tae Joon Jun · Hoang Minh Nguyen · Daeyoun Kang · Dohyeun Kim · Daeyoung Kim · Young-Hak Kim"
   ]
  },
  {
   "cell_type": "markdown",
   "metadata": {},
   "source": [
    "Los electrocardiogramas (EGC) juegan un papel vital para el estudio de la medicina moderna. Este es un procedimiento simple e indoloro que mide la actividad eléctrica del corazón. Si nuestro corazón late, una señal eléctrica circula a través de él. Un electrocardiograma muestra si su corazón está latiendo a un ritmo y con una fuerza normal. También muestra el tamaño y la posición de las cámaras del corazón. Un electrocardiograma anormal puede ser un signo de daño o enfermedad del corazón."
   ]
  },
  {
   "cell_type": "markdown",
   "metadata": {},
   "source": [
    "Si una señal de ECG documentada tiene una cierta irregularidad en sus características predefinidas, esto se llama **arritmia**, cuyos tipos incluyen **taquicardia, bradicardia, arritmias supraventriculares y ventricular, etc.**"
   ]
  },
  {
   "cell_type": "code",
   "execution_count": null,
   "metadata": {},
   "outputs": [],
   "source": []
  },
  {
   "cell_type": "markdown",
   "metadata": {},
   "source": [
    "## Referencias\n",
    "MedlinePlus. (2017). ¿Qué es un electrocardiograma (ECG)?. 15 de Julio del 2020, de MedlinePlus Sitio web: https://medlineplus.gov/spanish/pruebas-de-laboratorio/electrocardiograma/"
   ]
  }
 ],
 "metadata": {
  "kernelspec": {
   "display_name": "Python 3",
   "language": "python",
   "name": "python3"
  },
  "language_info": {
   "codemirror_mode": {
    "name": "ipython",
    "version": 3
   },
   "file_extension": ".py",
   "mimetype": "text/x-python",
   "name": "python",
   "nbconvert_exporter": "python",
   "pygments_lexer": "ipython3",
   "version": "3.6.5"
  }
 },
 "nbformat": 4,
 "nbformat_minor": 2
}
