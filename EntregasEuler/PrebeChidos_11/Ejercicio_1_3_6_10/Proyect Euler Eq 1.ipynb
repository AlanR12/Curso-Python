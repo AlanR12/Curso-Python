{
 "cells": [
  {
   "cell_type": "markdown",
   "metadata": {},
   "source": [
    "# Solución de problemas de *Proyect Euler*"
   ]
  },
  {
   "cell_type": "markdown",
   "metadata": {},
   "source": [
    "## Problema 1. ##\n",
    "\n",
    "```\n",
    "If we list all the natural numbers below 10 that are multiples of 3 or 5, we get 3, 5, 6 and 9. The sum of these multiples is 23.\n",
    "\n",
    "Find the sum of all the multiples of 3 or 5 below 1000.\n",
    "```\n",
    "\n",
    "**Solución:**\n",
    "```\n",
    "Nos pide el problema cuál es la suma de todos los multiplos de 3 o 5 debajo de 100. Entonces es el siguiente código:\n",
    "```\n"
   ]
  },
  {
   "cell_type": "code",
   "execution_count": 4,
   "metadata": {},
   "outputs": [
    {
     "name": "stdout",
     "output_type": "stream",
     "text": [
      "La suma de los multiplos de 3 o 5 hasta el 100 es: 233168\n"
     ]
    }
   ],
   "source": [
    "n=1000 #Es el n que se quiere calcular, mejor dicho el natural.\n",
    "lista=[]\n",
    "#Se hace el ciclo para un rango de (1,1000) \n",
    "#Dentro del ciclo pregunta si es multiplo de 3 o 5\n",
    "#Si es así lo agrega a la lista y aumenta el valor de x.\n",
    "for x in range(1,n): \n",
    "\tif x%3==0 or x%5==0:\n",
    "\t\tlista.append(x)\n",
    "\t\tx+=1\n",
    "print(\"La suma de los multiplos de 3 o 5 hasta el 100 es:\",sum(lista)) #Finalmente imprime la suma\n"
   ]
  },
  {
   "cell_type": "markdown",
   "metadata": {},
   "source": [
    "## Problema 3. ##\n",
    "\n",
    "```\n",
    "The prime factors of 13195 are 5, 7, 13 and 29.\n",
    "\n",
    "What is the largest prime factor of the number 600851475143 ?\n",
    "```\n",
    "\n",
    "**Solución:**\n",
    "```\n",
    "Nos pide el problema cuál es el factor primo mayor del numero 600851475143. En Python se declaró la siguiente función:\n",
    "```\n"
   ]
  },
  {
   "cell_type": "code",
   "execution_count": 5,
   "metadata": {},
   "outputs": [
    {
     "name": "stdout",
     "output_type": "stream",
     "text": [
      "El factor primo máximo es: 6857\n"
     ]
    }
   ],
   "source": [
    "def imprimir_max_factor_primo(number): #Se declara la función que recibe como parametro \"number\".\n",
    "    lista=[] #En esta lista vacia se va guardar el factor primo en forma de lista.\n",
    "    factor = 2 #Se declara la variable con valor igual a 2 para el inicio número primo.\n",
    "    '''En el siguiente \"while\" se cumple mientras que factor primo sea menor igual a \"numero\".\n",
    "    Al entrar al ciclo verifica si el factor es un divisor de numero'''\n",
    "    while factor <= number:\n",
    "        if not (number % factor != 0):#Si cumple entonces se divide entre el original.\n",
    "            number /= factor \n",
    "            lista.append(factor)#Con cada ciclo que pasa se va agregando un elemento a la lista.\n",
    "        else:# Si no se cumple el factor aumenta 1.\n",
    "            factor += 1\n",
    "    print(\"El factor primo máximo es:\",max(lista)) #Con max() se obtiene el valor máximo de la lista y se imprime.\n",
    "\n",
    "imprimir_max_factor_primo(600851475143)\n"
   ]
  },
  {
   "cell_type": "markdown",
   "metadata": {},
   "source": [
    "## Problema 6. ##\n",
    "\n",
    "```\n",
    "The sum of the squares of the first ten natural numbers is,\n",
    "```\n",
    "\\begin{equation}\n",
    "    1^2+2^2+\\dots+10^2=385.\n",
    "\\end{equation}\n",
    "```\n",
    "The square of the sum of the first ten natural numbers is,\n",
    "```\n",
    "\\begin{equation}\n",
    "    (1+2+\\dots+10)^2=55^2=3025.\n",
    "\\end{equation}\n",
    "```\n",
    "Hence the difference between the sum of the squares of the first ten natural numbers and the square of the sum is \n",
    "```\n",
    "\\begin{equation*}\n",
    " 3025-385=2640\n",
    "\\end{equation*}\n",
    "```\n",
    "Find the difference between the sum of the squares of the first one hundred natural numbers and the square of the sum.\n",
    "```\n",
    "**Solución:**\n",
    "```\n",
    "En realidad este es un problema sencillo, y no tan laborioso de programar teniendo en cuenta algunos conceptos.\n",
    "Dando un repaso de un poco de álgebra o cálculo depende el caso. Para saber cuanto es la suma de 1 hasta 100 tenemos que recordar algo importante de un señor llamado Johann Carl Friedrich Gauss quien se dice que en juventud cuando iba en la primaria su profesor les dejo un ejercicio para estuvieran quietos, les dejo sumar lo números naturales del 1 a 100, en pocos instantes el joven Gauss lo resolvió en poco tiempo, la respuesta del problema para la suma de n números naturales que después se le llamó \"La suma de Gauss\".\n",
    "```\n",
    "```\n",
    "Para la suma de naturales:\n",
    "```\n",
    "\\begin{equation}\n",
    "\\sum_{k=1}^{n}=\\frac{n(n+1)}{2}.\n",
    "\\end{equation}\n",
    "```\n",
    "Esto se puede llevar a los polinomios de grado n, con la siguiente expresión\n",
    "```\n",
    "\\begin{equation}\n",
    "\\sum_{k=1}^{p}=\\frac{n^{p+1}}{p+1}+An^{p}+Bn^{p-1}+Cn^{p-2}+\\dots.\n",
    "\\end{equation}\n",
    "\n",
    "```\n",
    "Después de todo esta discución, el problema dice que se tiene que calcular la suma de los cuadrados, y esto se logra fácilmente aplicando la suma Gaussiana. Tenemos que:\n",
    "```\n",
    "\\begin{equation}\n",
    "    1^2+2^2+\\dots+n^2=\\frac{n(n+1)(2n+1)}{6}.\n",
    "\\end{equation}\n",
    "```\n",
    "Esto es verdadero y se puede demostrar usando inducción matemática (Como dice el autor del libro de Calculus de Michael Spivak \"Se le queda como ejercicio al lector\").\n",
    "Finalmente hay una manera eficas de calcular el segundo punto que es el cuadrado de la suma, tenemos una equivalencia en matemáticas que es la siguiente:\n",
    "```\n",
    "\\begin{equation}\n",
    "    (1+2+\\dots+n)^2=1^3+\\dots+n^3.\n",
    "\\end{equation}\n",
    "```\n",
    "Finalmente ya podemos hacer el código, si para la suma de los cuadrados que vamos a tener n=100, y para los cuadrados de la suma tenemos m=100.\n",
    "```"
   ]
  },
  {
   "cell_type": "code",
   "execution_count": 7,
   "metadata": {},
   "outputs": [
    {
     "name": "stdout",
     "output_type": "stream",
     "text": [
      "La diferencia es:  25164150\n"
     ]
    }
   ],
   "source": [
    "n=100\n",
    "lista=[] #Dejamos esta lista vacia para que podamos guardar los elementos en el for.\n",
    "m=100\n",
    "sum_square=((n*(n+1)*(2*n+1))/6)#Aplicamos la ecuación de Gauss.\n",
    "\n",
    "#En el for se va ir agregando los elementos al cubo.\n",
    "for square_sum in range(1,m+1):\n",
    "\tsquare_sum=(square_sum**3)\n",
    "\tlista.append(square_sum)\n",
    "\n",
    "#Se hace la diferencia.\n",
    "dif_square=sum(lista)-int(sum_square)\n",
    "print(\"La diferencia es: \",dif_square)"
   ]
  },
  {
   "cell_type": "markdown",
   "metadata": {},
   "source": [
    "## Problema 10. ##\n",
    "\n",
    "```\n",
    "The sum of the primes below 10 is 2 + 3 + 5 + 7 = 17.\n",
    "Find the sum of all the primes below two million.\n",
    "```\n",
    "```\n",
    "En este problema principalmente lo que pide es la suma de los números primos abajo de 2,000,000.\n",
    "Primero vamos a definir una función y con ello se trabajará.\n",
    "```\n"
   ]
  },
  {
   "cell_type": "code",
   "execution_count": 9,
   "metadata": {},
   "outputs": [
    {
     "name": "stdout",
     "output_type": "stream",
     "text": [
      "La suma de numeros primos de la cantidad debajo 2000000 fue de: 142913828922\n"
     ]
    }
   ],
   "source": [
    "def prime_numbers(max_number):#Definimos a la función prime_numbers()\n",
    "    # Crear una lista que contiene el estado (tachado/no tachado)\n",
    "    # de cada número desde 2 hasta max_number.\n",
    "    numbers = [True, True] + [True] * (max_number-1) #Se crea una lista que contiene si está en True y disminuye una unidad el número. \n",
    "    #Esta lista esta inicializada en 2, porque es el primer número donde está definido el campo.\n",
    "    last_pr_number = 2# Esta variable contiene el número actual en la lista, que siempre es un múltiplo de last_pr_number.\n",
    "    i = last_pr_number\n",
    "    \n",
    "    \"\"\"Volviendo al problema 3 se aplica la misma condición nada más que es el cuadrado de último número primo tenido y que \n",
    "    se compara con el numero sea mayor o igual\"\"\" \n",
    "    while last_pr_number**2 <= max_number:\n",
    "        i += last_pr_number #Obtener el último digito del número primo\n",
    "        while i <= max_number: #En el segundo while se obtiene el siguiente número primo y se cumpla la condición\n",
    "            numbers[i] = False\n",
    "            i += last_pr_number\n",
    "        j = last_pr_number + 1\n",
    "        while j < max_number:\n",
    "            if numbers[j]:\n",
    "                last_pr_number = j\n",
    "                break\n",
    "            j += 1\n",
    "        i = last_pr_number\n",
    "        \"\"\"Finalamente hasta que sea difierente se rompe el ciclo, y se agreaga el último número primo\"\"\"\n",
    "    \n",
    "    #Retornar todas los números de la lista de todos los núemeros primos.\n",
    "    return [i + 2 for i, not_sin in enumerate(numbers[2:]) if not_sin] #Se hace una función compacta \n",
    "a=2000000\n",
    "print(\"La suma de numeros primos de la cantidad debajo\",a, \"fue de:\", sum(prime_numbers(a))) #En la última linea de código es para optimizar, ya que se intentó hacer de otra manera pero es más tardada.\n"
   ]
  }
 ],
 "metadata": {
  "kernelspec": {
   "display_name": "Python 3",
   "language": "python",
   "name": "python3"
  },
  "language_info": {
   "codemirror_mode": {
    "name": "ipython",
    "version": 3
   },
   "file_extension": ".py",
   "mimetype": "text/x-python",
   "name": "python",
   "nbconvert_exporter": "python",
   "pygments_lexer": "ipython3",
   "version": "3.6.5"
  }
 },
 "nbformat": 4,
 "nbformat_minor": 4
}
