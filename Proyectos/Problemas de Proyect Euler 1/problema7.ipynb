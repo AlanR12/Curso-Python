{
 "cells": [
  {
   "cell_type": "markdown",
   "metadata": {},
   "source": [
    "# 10001 st"
   ]
  },
  {
   "cell_type": "code",
   "execution_count": null,
   "metadata": {},
   "outputs": [],
   "source": [
    "posicion = 10001 #st primo\n",
    "primo = 1\n",
    "num = 2 \n",
    "cont = 1\n",
    "while cont <=posicion: #mientras el contador sea menor o igual a 10001st hacer:\n",
    "    primo = 1\n",
    "    for i in range (2,num): #En este for se determina si el numero es primo\n",
    "        if num%i == 0:      #al obtener el modulo el cual si es = 0\n",
    "            primo = 0       #la bandera cambia de estado para no tomar el cuenta el numero\n",
    "            break           \n",
    "    if primo :   #si la badera ES_PRIMO tiene el valor 1  \n",
    "        cont += 1 #se incrementa el contador para tomar en cuenta ese numero\n",
    "    num += 1  #numero se incrementa +1 \n",
    "\n",
    "print(num-1) #al ya no cumplir con la condicion el numero final se imprime -1 \n",
    "#ya que despues de entrar al ultimo while se incremente num \n",
    "            "
   ]
  }
 ],
 "metadata": {
  "kernelspec": {
   "display_name": "Python 3",
   "language": "python",
   "name": "python3"
  },
  "language_info": {
   "codemirror_mode": {
    "name": "ipython",
    "version": 3
   },
   "file_extension": ".py",
   "mimetype": "text/x-python",
   "name": "python",
   "nbconvert_exporter": "python",
   "pygments_lexer": "ipython3",
   "version": "3.8.5"
  }
 },
 "nbformat": 4,
 "nbformat_minor": 4
}
