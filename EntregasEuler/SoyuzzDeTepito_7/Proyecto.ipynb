{
 "cells": [
  {
   "cell_type": "markdown",
   "id": "frozen-there",
   "metadata": {},
   "source": [
    "<br><br><p style=\"text-align: center;\">\n",
    "<font size=\"6\">**Python Proyecto Equipo 1**</font></p>\n",
    "<br><br><br>\n",
    "<font size=\"5\">**Integrantes:**</font>\n",
    "<font size=\"4\"> <br>\n",
    "* Galindo Ruiz Abraham\n",
    "* García Miranda Athenas Marlene\n",
    "* García Serrano Héctor Mauricio\n",
    "* Huarte Nolasco Mario\n",
    "* Merino Hernández Ailyn\n",
    "* Minero Pineda Erick Rodrigo\n",
    "    \n",
    "</font>"
   ]
  },
  {
   "cell_type": "markdown",
   "id": "charitable-forestry",
   "metadata": {},
   "source": [
    "# Problema 1\n",
    "\n",
    "Si enumeramos todos los números naturales por debajo de 10 que son múltiplos de 3 o 5, obtenemos 3, 5, 6 y 9. La suma de estos múltiplos es 23.\n",
    "\n",
    "Encuentra la suma de todos los múltiplos de 3 o 5 por debajo de 1000."
   ]
  },
  {
   "cell_type": "code",
   "execution_count": 1,
   "id": "applicable-picture",
   "metadata": {},
   "outputs": [
    {
     "name": "stdout",
     "output_type": "stream",
     "text": [
      "233168\n"
     ]
    }
   ],
   "source": [
    "suma=0\n",
    "for i in range(1000):\n",
    "    if i%5==0 or i%3==0:\n",
    "        suma+=i\n",
    "        \n",
    "print(suma)"
   ]
  },
  {
   "cell_type": "code",
   "execution_count": null,
   "id": "overall-october",
   "metadata": {},
   "outputs": [],
   "source": []
  }
 ],
 "metadata": {
  "kernelspec": {
   "display_name": "Python 3",
   "language": "python",
   "name": "python3"
  },
  "language_info": {
   "codemirror_mode": {
    "name": "ipython",
    "version": 3
   },
   "file_extension": ".py",
   "mimetype": "text/x-python",
   "name": "python",
   "nbconvert_exporter": "python",
   "pygments_lexer": "ipython3",
   "version": "3.8.5"
  }
 },
 "nbformat": 4,
 "nbformat_minor": 5
}
