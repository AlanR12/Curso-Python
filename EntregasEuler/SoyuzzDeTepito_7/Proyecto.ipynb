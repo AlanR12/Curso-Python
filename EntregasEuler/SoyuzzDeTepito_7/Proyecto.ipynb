{
 "cells": [
  {
   "cell_type": "markdown",
   "metadata": {},
   "source": [
    "<br><br><p style=\"text-align: center;\">\n",
    "<font size=\"6\">**Python Proyecto Equipo 1**</font></p>\n",
    "<br><br><br>\n",
    "<font size=\"5\">**Integrantes:**</font>\n",
    "<font size=\"4\"> <br>\n",
    "* Galindo Ruiz Abraham\n",
    "* García Miranda Athenas Marlene\n",
    "* García Serrano Héctor Mauricio\n",
    "* Huarte Nolasco Mario\n",
    "* Merino Hernández Ailyn\n",
    "* Minero Pineda Erick Rodrigo\n",
    "    \n",
    "</font>"
   ]
  },
  {
   "cell_type": "markdown",
   "metadata": {},
   "source": [
    "# Problema 1\n",
    "\n",
    "Si enumeramos todos los números naturales por debajo de 10 que son múltiplos de 3 o 5, obtenemos 3, 5, 6 y 9. La suma de estos múltiplos es 23.\n",
    "\n",
    "Encuentra la suma de todos los múltiplos de 3 o 5 por debajo de 1000."
   ]
  },
  {
   "cell_type": "code",
   "execution_count": 1,
   "metadata": {},
   "outputs": [
    {
     "name": "stdout",
     "output_type": "stream",
     "text": [
      "233168\n"
     ]
    }
   ],
   "source": [
    "suma=0\n",
    "for i in range(1000):\n",
    "    if i%5==0 or i%3==0:\n",
    "        suma+=i\n",
    "        \n",
    "print(suma)"
   ]
  },
  {
   "cell_type": "markdown",
   "metadata": {},
   "source": [
    "# Problema 3\n",
    "Los factores primos de 13195 son 5, 7, 13 y 29.\n",
    "\n",
    "¿Cuál es el factor primo más grande del número 600851475143?"
   ]
  },
  {
   "cell_type": "code",
   "execution_count": null,
   "metadata": {},
   "outputs": [],
   "source": [
    "#Definimos la constante\n",
    "numero=600851475143\n",
    "#Para buscar el divisor y por definición de número primo, iniciamos en 2\n",
    "i=2 \n",
    "#Iteramos para encontrar el divisor primo\n",
    "#Verificamos que el factor que estamos buscando sea menor al número en cuestión\n",
    "while i<=numero: \n",
    "    #este contador sirve para enumerar cuántos valores anteceden a \"i\" \n",
    "    #por lo tanto para cada valor de \"i\" se reinicia la cuenta\n",
    "    contador=0\n",
    "    #Para saber cuántos antecesores tiene el supuesto número primo (\"i\")..\n",
    "    for j in range(2,i):\n",
    "        #Contamos cuando el módulo entre \"i\" y el antecesor es diferente de cero\n",
    "        if i%j!=0:\n",
    "            contador=contador+1\n",
    "    #En la siguiente condición validamos que \"i\" es un número primo\n",
    "    #Primero verificamos que ninguno de los números que le anteceden lo puedan dividir\n",
    "    #Después calculamos el módulo del \"número\" entre \"i\" para corroborar que es factor \n",
    "    if contador==i-2 and numero%i==0 :\n",
    "        #Sabiendo que \"i\" es primo y a la vez factor de \"número\"\n",
    "        #consideramos momentaneamente a \"i\" como el factor primo más grande\n",
    "        primoMayor=i\n",
    "        #Validamos al primo más grande dividiendo al número original varias veces\n",
    "        #para esto necesitamos una bandera que detenga dicha división\n",
    "        bandera=0\n",
    "        while bandera==0:\n",
    "            numero=numero/primoMayor\n",
    "            #Debido a que \"i\" va en aumento y la división disminuye\n",
    "            #cuando éstos dos valores se encuentran\n",
    "            #quiere decir que encontramos al factor primo más grande\n",
    "            if numero%primoMayor!=0:\n",
    "                bandera=1\n",
    "    #buscamos el siguiente número primo           \n",
    "    i=i+1\n",
    "print(primoMayor)"
   ]
  }
 ],
 "metadata": {
  "kernelspec": {
   "display_name": "Python 3",
   "language": "python",
   "name": "python3"
  },
  "language_info": {
   "codemirror_mode": {
    "name": "ipython",
    "version": 3
   },
   "file_extension": ".py",
   "mimetype": "text/x-python",
   "name": "python",
   "nbconvert_exporter": "python",
   "pygments_lexer": "ipython3",
   "version": "3.8.5"
  }
 },
 "nbformat": 4,
 "nbformat_minor": 5
}
