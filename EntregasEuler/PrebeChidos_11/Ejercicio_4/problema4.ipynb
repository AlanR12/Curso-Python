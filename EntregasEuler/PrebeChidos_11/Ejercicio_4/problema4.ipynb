{
 "metadata": {
  "language_info": {
   "codemirror_mode": {
    "name": "ipython",
    "version": 3
   },
   "file_extension": ".py",
   "mimetype": "text/x-python",
   "name": "python",
   "nbconvert_exporter": "python",
   "pygments_lexer": "ipython3",
   "version": "3.9.1-final"
  },
  "orig_nbformat": 2,
  "kernelspec": {
   "name": "python3",
   "display_name": "Python 3.9.1 64-bit",
   "metadata": {
    "interpreter": {
     "hash": "acf6e65c095f0a177ad1ca8afd350e645503ed109c972d889afe3525c83f10a9"
    }
   }
  }
 },
 "nbformat": 4,
 "nbformat_minor": 2,
 "cells": [
  {
   "cell_type": "code",
   "execution_count": 1,
   "metadata": {},
   "outputs": [
    {
     "output_type": "stream",
     "name": "stdout",
     "text": [
      "El palíndromo más grande hecho del producto de dos números de 3 dígitos es: 906609\nFormado por el producto de los números:\nPrimer número: 913\nSegundo número: 993\n"
     ]
    }
   ],
   "source": [
    "#Problema 2 de Proyect Euler.net\n",
    "#A palindromic number reads the same both ways. The largest palindrome made from the product of two 2-digit numbers is 9009 = 91 × 99.\n",
    "#Find the largest palindrome made from the product of two 3-digit numbers.\n",
    "\n",
    "#Creamos nuestra función que nos va a permitir verificar que un número es palíndromo.\n",
    "def numeroPalindromo(i):#Recibe el valor del producto de dos números con 3 digitos cada uno.\n",
    "    #Converimos el número recibido en un string y verificamos si es igual al string que representa ese mismo número pero invertido.\n",
    "    #Si ambas cadenas son iguales, entonces tenemos un número palíndromo.\n",
    "    return str(i) == str(i)[::-1] #Ejemplo: 100 * 101 = 10100;  10100 = 00101 ? la respuesta es: False.\n",
    "\n",
    "#Creamos nuestras variables que vamos a utilizar:\n",
    "palindromoMasGrande = 0\n",
    "numero1 = 0\n",
    "numero2 = 0\n",
    "\n",
    "#Creamos 2 ciclos for anidados que nos permitirán hacer solamente el producto \n",
    "#de números con 3 digitos en adelante, de esta manera obtimizamos código\n",
    "#ignorando a los números que son menores que 100.\n",
    "for i in range(100, 999):\n",
    "    for j in range(i+1, 1000):\n",
    "        #Realizamos el producto de 2 números con 3 digitos, este valor lo vamos a ingresar en nuestra función: \"numeroPalindromo\".\n",
    "        producto = i * j \n",
    "        #Si el valor del producto es un número Palíndromo y es mayor que el Palíndromo más grande, entonces haz lo siguiente:\n",
    "        if numeroPalindromo(producto) and producto > palindromoMasGrande:\n",
    "            palindromoMasGrande = producto #Actualizamos el valor del \"palindromo más grande\".\n",
    "            numero1 = i #Almacenamos el valor de los dos números que formaron el producto.\n",
    "            numero2 = j\n",
    "\n",
    "#Finalmente imprimimos los resultados que han sido almacenados durante la ejecución de los ciclos anteriores:\n",
    "print(\"El palíndromo más grande hecho del producto de dos números de 3 dígitos es: {}\".format(palindromoMasGrande))\n",
    "print(\"Formado por el producto de los números:\")\n",
    "print(\"Primer número: {}\".format(numero1))\n",
    "print(\"Segundo número: {}\".format(numero2))"
   ]
  },
  {
   "cell_type": "code",
   "execution_count": null,
   "metadata": {},
   "outputs": [],
   "source": []
  }
 ]
}