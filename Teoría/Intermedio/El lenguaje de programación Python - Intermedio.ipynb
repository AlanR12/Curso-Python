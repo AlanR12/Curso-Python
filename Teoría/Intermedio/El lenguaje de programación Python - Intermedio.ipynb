{
 "cells": [
  {
   "cell_type": "markdown",
   "metadata": {},
   "source": [
    "# El lenguaje de programación Python🐍 - Intermedio"
   ]
  },
  {
   "cell_type": "markdown",
   "metadata": {},
   "source": [
    " **<div style=\"text-align: right\"> Samuel Arturo Garrido Sánchez</div>**"
   ]
  },
  {
   "cell_type": "markdown",
   "metadata": {},
   "source": [
    "Python es un lenguaje de programación **multiparadigma**, muy útil para demasiadas ramas de la investigación, desarrollos y procesos. \n",
    "Su filosofía radica en un código legible que cualquier persona no enfocada en el área de programación, pueda comprender."
   ]
  },
  {
   "cell_type": "markdown",
   "metadata": {},
   "source": [
    "![](img/let.png)"
   ]
  },
  {
   "cell_type": "markdown",
   "metadata": {},
   "source": [
    "# ¿Qué es Python?"
   ]
  },
  {
   "cell_type": "markdown",
   "metadata": {},
   "source": [
    "Python es un lenguaje de programación interpretado cuya filosofía hace hincapié en la legibilidad de su código.\n",
    "\n",
    "Se trata de un lenguaje de programación multiparadigma, ya que soporta orientación a objetos, programación imperativa y, en menor medida, programación funcional. Es un lenguaje interpretado, dinámico y multiplataforma."
   ]
  },
  {
   "cell_type": "markdown",
   "metadata": {},
   "source": [
    "Es administrado por la Python Software Foundation. Posee una licencia de código abierto, denominada Python Software Foundation License, que es compatible con la Licencia pública general de GNU a partir de la versión 2.1.1, e incompatible en ciertas versiones anteriores.\n",
    "\n",
    "![](img/python.jpg)"
   ]
  },
  {
   "cell_type": "markdown",
   "metadata": {},
   "source": [
    "### Las ventajas de Python pueden ser muchas pero en las que destacan:"
   ]
  },
  {
   "cell_type": "markdown",
   "metadata": {},
   "source": [
    "- La cantidad de bibliotecas que contiene, tipos de datos y funciones incorporadas en el propio lenguaje, que ayudan a realizar muchas tareas habituales sin necesidad de tener que programarlas desde cero.\n",
    "\n",
    "- La sencillez y velocidad con la que se crean los programas. Un programa en Python puede tener de 3 a 5 líneas de código menos que su equivalente en Java o C.\n",
    "\n",
    "- La cantidad de plataformas en las que podemos desarrollar, como Unix, Windows, OS/2, Mac, Amiga y otros.\n",
    "\n",
    "- Además, Python es gratuito, incluso para propósitos empresariales."
   ]
  },
  {
   "cell_type": "markdown",
   "metadata": {},
   "source": [
    "## Expresiones Regulares 📝\n",
    "\n",
    "Una expresión regular es un modelo con el que el motor de expresiones regulares intenta buscar una coincidencia en el texto de entrada. Un modelo consta de uno o más literales de carácter, operadores o estructuras.\n",
    "\n",
    "**En otras palabras, buscamos PATRONES.**\n",
    "\n",
    "\n",
    "La siguiente tabla nos muestra algunas formas de poder denotar un conjunto de símbolos por ejemplo un dígito puede escribirse como `\\d` pero `\\d+` significa todos los números de cualquier longitud.`\\w` significa una letra pero `\\w+` significa todas las palabras habidas y por haber de todos los idiomas. \n",
    "\n",
    "![](img/picu.png)\n"
   ]
  },
  {
   "cell_type": "markdown",
   "metadata": {},
   "source": [
    "Digamos que somos desarrolladores de software en una compañía donde un programa nos genera un **LOG** (traducción: Bitácora) y este es un texto largo largo largo. Un log es como el chismógrafo donde cada acción que hagas o los printf() que coloque el programador van al registro, como su nombre lo dice, una bitácora.\n",
    "\n",
    "Ejemplo:\n",
    "\n",
    "    109.169.248.247 - - [12/Dec/2015:18:25:11 +0100] \"GET /administrator/ HTTP/1.1\" 200 4263 \n",
    "    109.169.248.247 - - [13/Dec/2015:18:25:11 +0100] \"POST /administrator/index.php HTTP/1.1\" 200 4494 \n",
    "    46.72.177.4 - - [15/Dec/2015:18:31:08 +0100] \"GET /administrator/ HTTP/1.1\" 200 4263 \n",
    "    46.72.177.4 - - [15/Dec/2015:18:31:08 +0100] \"POST /administrator/index.php HTTP/1.1\" 200 4494\n",
    "    83.167.113.100 - - [17/Dec/2015:18:31:25 +0100] \"GET /administrator/ HTTP/1.1\" 200 4263 \n",
    "    83.167.113.100 - - [18/Dec/2015:18:31:25 +0100] \"POST /administrator/index.php HTTP/1.1\" 200 4494 \n",
    "\n",
    "Si su trabajo consistiera en, tengo un archivo con más de 100 Millones de éstas líneas, me respondan las siguientes preguntas:\n",
    "\n",
    "- ¿Cuántas conexiones se realizaron del 12 al 15 de Diciembre por /administrator y con el método POST?\n",
    "- ¿Cuántas conexiones GET de usuarios que no sean /administrator se realizaron en horario de 12 am a 9 am?\n",
    "- ¿Cuántas conexiones fueron exitosas (Código 200) el 13 y 14 de Diciembre?\n",
    "\n",
    "### ¿Nos ponemos a contar? 🤯 \n",
    "\n",
    "Quien no tenga nada que hacer en cuarentena, adelante. Sin embargo podríamos calcularlo con solo unas cuántas líneas de código. Lo veremos más adelante, mientras tanto lo básico."
   ]
  },
  {
   "cell_type": "markdown",
   "metadata": {},
   "source": [
    "Python tiene un paquete incorporado llamado **re**, que se puede usar para trabajar con expresiones regulares.\n",
    "Puedes comenzar a usar expresiones regulares usando el módulo **re**.\n",
    "\n",
    "**Funciones incluidas en el paquete:**\n",
    "\n",
    "\n",
    "- `findall`: Devuelve una lista que contiene todas las coincidencias\n",
    "- `search`:\t Devuelve un objeto Match si hay una coincidencia en cualquier parte de la cadena\n",
    "- `split`:\t Devuelve una lista donde la cadena se ha dividido en cada coincidencia\n",
    "- `sub`:\t Reemplaza una o varias coincidencias con una cadena\n",
    "- `match`:\t Determina si la expresión coincide al principio de la cadena"
   ]
  },
  {
   "cell_type": "code",
   "execution_count": 46,
   "metadata": {},
   "outputs": [
    {
     "name": "stdout",
     "output_type": "stream",
     "text": [
      "['11', '12', '13', '14', '15', '20']\n",
      "Hay al menos una coincidencia!\n"
     ]
    }
   ],
   "source": [
    "import re\n",
    "\n",
    "p = re.compile(r'\\d+')\n",
    "\n",
    "x = p.findall('11 es un número y 12 también, después tenemos al 13, 14, 15 y sin olvidar al 20')\n",
    "\n",
    "print(x)\n",
    "\n",
    "if x:\n",
    "    print(\"Hay al menos una coincidencia!\")\n",
    "else:\n",
    "    print(\"No hay coincidencias\")"
   ]
  },
  {
   "cell_type": "code",
   "execution_count": 55,
   "metadata": {
    "scrolled": true
   },
   "outputs": [
    {
     "name": "stdout",
     "output_type": "stream",
     "text": [
      "<_sre.SRE_Match object; span=(0, 27), match='correo_prote.co_4@gmail.com'>\n",
      "Es válida ✅\n"
     ]
    }
   ],
   "source": [
    "expresion = \"(^[a-zA-Z0-9_.+-]+@[a-zA-Z0-9-]+\\.[a-zA-Z0-9-.]+$)\"\n",
    "\n",
    "correo = \"correo_prote.co_4@gmail.com\"\n",
    "\n",
    "print(re.match(expresion, correo))\n",
    "\n",
    "if re.match(expresion, correo):\n",
    "    print(\"Es válida ✅\")\n",
    "else:\n",
    "    print(\"NO es válida ❌\")"
   ]
  },
  {
   "cell_type": "markdown",
   "metadata": {},
   "source": [
    "## Contestemos las preguntas iniciales con un archivo externo"
   ]
  },
  {
   "cell_type": "markdown",
   "metadata": {},
   "source": [
    "### 1. ¿Cuántas conexiones se realizaron del 12 al 15 de Diciembre por /administrator y con el método POST?\n",
    "\n",
    "**Expresión regular:** `\\d+\\.\\d+\\.\\d+\\.\\d+ - - \\[1[2-5]\\/Dec\\/\\d+:.{17}POST \\/administrator\\/.+`"
   ]
  },
  {
   "cell_type": "code",
   "execution_count": 48,
   "metadata": {
    "scrolled": false
   },
   "outputs": [
    {
     "name": "stdout",
     "output_type": "stream",
     "text": [
      "Número de conexiones del 12-15 Dic POST por arministrador:  425\n",
      "\n",
      "Ejemplos: \n",
      "\n",
      "109.169.248.247 - - [12/Dec/2015:18:25:11 +0100] \"POST /administrator/index.php HTTP/1.1\" 200 4494 \"http://almhuette-raith.at/administrator/\" \"Mozilla/5.0 (Windows NT 6.0; rv:34.0) Gecko/20100101 Firefox/34.0\" \"-\"\n",
      "\n",
      "46.72.177.4 - - [12/Dec/2015:18:31:08 +0100] \"POST /administrator/index.php HTTP/1.1\" 200 4494 \"http://almhuette-raith.at/administrator/\" \"Mozilla/5.0 (Windows NT 6.0; rv:34.0) Gecko/20100101 Firefox/34.0\" \"-\"\n"
     ]
    }
   ],
   "source": [
    "import re\n",
    "\n",
    "#Compilamos nuestra expresión regular\n",
    "miExpresionRegular = re.compile(r'\\d+\\.\\d+\\.\\d+\\.\\d+ - - \\[1[2-5]\\/Dec\\/\\d+:.{17}POST \\/administrator\\/.+')\n",
    "\n",
    "#Al abrir el archivo apache.log como 'archivo' has esto:\n",
    "\n",
    "with open('apache.log') as archivo:\n",
    "    contenido = archivo.read()\n",
    "    print(\"Número de conexiones del 12-15 Dic POST por arministrador: \",len(miExpresionRegular.findall(contenido)))\n",
    "    print(\"\\nEjemplos: \\n\")\n",
    "    print(miExpresionRegular.findall(contenido)[0]+\"\\n\")\n",
    "    print(miExpresionRegular.findall(contenido)[1])"
   ]
  },
  {
   "cell_type": "markdown",
   "metadata": {},
   "source": [
    "### 2. ¿Cuántas conexiones GET de usuarios que no sean /administrator se realizaron en horario de 12 am a 9 am?\n",
    "\n",
    "**Expresión regular:** `\\d+\\.\\d+\\.\\d+\\.\\d+ - - \\[\\d+\\/\\w+\\/\\d+:0[0-9]:\\d+:\\d+ \\+\\d+\\] \"GET \\/(?!administrator).+`"
   ]
  },
  {
   "cell_type": "code",
   "execution_count": 38,
   "metadata": {},
   "outputs": [
    {
     "name": "stdout",
     "output_type": "stream",
     "text": [
      "Número de conexiones GET no realizadas por /administrator de 0 am a 9 am:  36\n",
      "\n",
      "Ejemplos: \n",
      "\n",
      "188.143.232.11 - - [13/Dec/2015:00:01:23 +0100] \"GET /apache-log/access.log HTTP/1.1\" 200 75060 \"-\" \"Mozilla/4.0 (compatible; MSIE 6.0; Windows NT 5.1; SV1)\" \"-\"\n",
      "\n",
      "66.249.66.19 - - [13/Dec/2015:00:40:24 +0100] \"GET / HTTP/1.1\" 200 10479 \"-\" \"Mozilla/5.0 (compatible; Googlebot/2.1; +http://www.google.com/bot.html)\" \"-\"\n"
     ]
    }
   ],
   "source": [
    "import re\n",
    "\n",
    "#Compilamos nuestra expresión regular\n",
    "miExpresionRegular2 = re.compile(r'\\d+\\.\\d+\\.\\d+\\.\\d+ - - \\[\\d+\\/\\w+\\/\\d+:0[0-9]:\\d+:\\d+ \\+\\d+\\] \"GET \\/(?!administrator).+')\n",
    "\n",
    "#Al abrir el archivo apache.log como 'archivo' has esto:\n",
    "\n",
    "with open('apache.log') as archivo:\n",
    "    contenido = archivo.read() # Lee su contenido\n",
    "    print(\"Número de conexiones GET no realizadas por /administrator de 0 am a 9 am: \",len(miExpresionRegular2.findall(contenido))) #Imprime el tamaño del arreglo de todas las coincidencias\n",
    "    print(\"\\nEjemplos: \\n\") \n",
    "    print(miExpresionRegular2.findall(contenido)[0]+\"\\n\")\n",
    "    print(miExpresionRegular2.findall(contenido)[1])"
   ]
  },
  {
   "cell_type": "markdown",
   "metadata": {},
   "source": [
    "### 3. ¿Cuántas conexiones fueron exitosas (Código 200) el 13 y 14 de Diciembre?\n",
    "\n",
    "**Expresión regular:** `\\d+\\.\\d+\\.\\d+\\.\\d+ - - \\[1[3-4]\\/Dec\\/\\d+:\\d+:\\d+:\\d+ \\+\\d+\\] \"\\w+ [^ ]+ [^ ]+ 200 .+`"
   ]
  },
  {
   "cell_type": "code",
   "execution_count": 56,
   "metadata": {},
   "outputs": [
    {
     "name": "stdout",
     "output_type": "stream",
     "text": [
      "Conexiones Exitosas (200) el 13 y 14 de Diciembre:  636\n",
      "\n",
      "Ejemplos: \n",
      "\n",
      "109.106.143.62 - - [13/Dec/2015:00:00:20 +0100] \"GET /administrator/ HTTP/1.1\" 200 4263 \"-\" \"Mozilla/5.0 (Windows NT 6.0; rv:34.0) Gecko/20100101 Firefox/34.0\" \"-\"\n",
      "\n",
      "109.106.143.62 - - [13/Dec/2015:00:00:20 +0100] \"POST /administrator/index.php HTTP/1.1\" 200 4494 \"http://almhuette-raith.at/administrator/\" \"Mozilla/5.0 (Windows NT 6.0; rv:34.0) Gecko/20100101 Firefox/34.0\" \"-\"\n"
     ]
    }
   ],
   "source": [
    "import re\n",
    "\n",
    "#Compilamos nuestra expresión regular\n",
    "miExpresionRegular3 = re.compile(r'\\d+\\.\\d+\\.\\d+\\.\\d+ - - \\[1[3-4]\\/Dec\\/\\d+:\\d+:\\d+:\\d+ \\+\\d+\\] \"\\w+ [^ ]+ [^ ]+ 200 .+')\n",
    "\n",
    "#Al abrir el archivo apache.log como 'archivo' has esto:\n",
    "\n",
    "with open('apache.log') as archivo:\n",
    "    contenido = archivo.read() # Lee su contenido\n",
    "    print(\"Conexiones Exitosas (200) el 13 y 14 de Diciembre: \",len(miExpresionRegular3.findall(contenido))) #Imprime el tamaño del arreglo de todas las coincidencias\n",
    "    print(\"\\nEjemplos: \\n\") \n",
    "    print(miExpresionRegular3.findall(contenido)[0]+\"\\n\")\n",
    "    print(miExpresionRegular3.findall(contenido)[1])"
   ]
  },
  {
   "cell_type": "markdown",
   "metadata": {},
   "source": [
    "# Bases de Datos"
   ]
  },
  {
   "cell_type": "code",
   "execution_count": 40,
   "metadata": {
    "scrolled": false
   },
   "outputs": [
    {
     "name": "stdout",
     "output_type": "stream",
     "text": [
      "Mis bases de datos son: \n",
      "('asistente',)\n",
      "('information_schema',)\n",
      "('mysql',)\n",
      "('performance_schema',)\n",
      "('python2020',)\n",
      "\n",
      "Se ha creado la entidad de profesor\n",
      "Se han creado objetos de la clase Profesor y los hemos puesto en una lista \n",
      "Se han insertado a los profesores en la base\n",
      "Se han cerrado correctamente las conexiones :)\n",
      "Algoritmo finalizado!\n"
     ]
    }
   ],
   "source": [
    "import mysql.connector\n",
    "\n",
    "#Creamos el conector a la BD\n",
    "mydb = mysql.connector.connect(\n",
    "  host=\"pythoninter.c7rbflvluzyk.us-east-2.rds.amazonaws.com\",\n",
    "  user=\"admin\",\n",
    "  password=\"proteco123\"\n",
    ")\n",
    "\n",
    "## Creamos un cursor por la conexión creada--------------------------------------------\n",
    "cursor1 = mydb.cursor()\n",
    "cursor1.execute(\"CREATE DATABASE asistente\") ## FAVOR DE CREAR UNA BASE DE DATOS LLAMADA asistente_<numero_asistente>\n",
    "cursor1.execute(\"SHOW DATABASES\")   ### Ej: asistente_1, asistente_2, asistente_3, etc.\n",
    "print(\"Mis bases de datos son: \")\n",
    "for baseDatos in cursor1:\n",
    "    print(baseDatos)\n",
    "\n",
    "cursor1.execute(\"use asistente\") ## FAVOR DE INGRESAR asistente_<su_numero> ------------\n",
    "\n",
    "        \n",
    "## Creamos otro cursor y creamos una entidad en la base de datos\n",
    "\n",
    "cursor2 = mydb.cursor()\n",
    "cursor2.execute(\"\"\"CREATE TABLE PROFESOR (ID INT AUTO_INCREMENT PRIMARY KEY, \n",
    "                                          NOMBRE VARCHAR(40),\n",
    "                                          APELLIDO_PAT VARCHAR(40),\n",
    "                                          APELLIDO_MAT VARCHAR(40),\n",
    "                                          EDAD INT,\n",
    "                                          DOMICILIO VARCHAR(255),\n",
    "                                          SALARIO DECIMAL(5,2))\n",
    "                                          \"\"\");\n",
    "\n",
    "print(\"\\nSe ha creado la entidad de profesor\")\n",
    "\n",
    "######## --------- Creamos unos objetos profesores.\n",
    "\n",
    "\n",
    "class Profesor:\n",
    "    def __init__(self,id,nombre,apellido_pat,apellido_mat,edad,domicilio,salario):\n",
    "        self.id = id\n",
    "        self.nombre = nombre\n",
    "        self.apellido_pat = apellido_pat\n",
    "        self.apellido_mat = apellido_mat\n",
    "        self.edad = edad\n",
    "        self.domicilio = domicilio\n",
    "        self.salario = salario   \n",
    "\n",
    "missConchi = Profesor(1,'Ana Concepción','Castillo','Corona',33,'Av.Robles, Tabasco, Mex',13000)\n",
    "mrRafa     = Profesor(2,'Rafael','García','Rueda',44,'Av. Maya, Tabasco, Mex',12000)\n",
    "missDulce  = Profesor(3,'Dulce Mónica','Escalante','Garrido',30,'Av. Olmeca, Campeche, Mex',12000)\n",
    "missLoli   = Profesor(4,'Maria Dolores','Taracena','Blé',31,'Av. Palenque, Chiapas, Mex',15000)\n",
    "\n",
    "#Hacemos una lista de objetos profesor\n",
    "listaDeProfesores = [missConchi,mrRafa,missDulce,missLoli]\n",
    "\n",
    "print(\"Se han creado objetos de la clase Profesor y los hemos puesto en una lista \")\n",
    "## Hacemos la instrucción SQL\n",
    "\n",
    "sql = \"INSERT INTO PROFESOR (NOMBRE, APELLIDO_PAT,APELLIDO_MAT,EDAD,DOMICILIO,SALARIO) VALUES (%s,%s,%s,%s,%s,%s)\"\n",
    "\n",
    "# Y mandamos a través del SQL y de la lista de profesores los datos a la base de datos en MySQL\n",
    "\n",
    "for profe in listaDeProfesores:\n",
    "    valores = (profe.nombre, profe.apellido_pat,profe.apellido_mat,profe.edad,profe.domicilio,profe.salario)\n",
    "    cursor2.execute(sql, valores)\n",
    "\n",
    "print(\"Se han insertado a los profesores en la base\")\n",
    "\n",
    "mydb.commit() ## Confirmamos los cambios\n",
    "\n",
    "## Por buenas prácticas, cerramos todas las conexiones\n",
    "\n",
    "if cursor1.close() and cursor2.close():\n",
    "    print(\"Se han cerrado correctamente las conexiones :)\")\n",
    "    print(\"Algoritmo finalizado!\")"
   ]
  },
  {
   "cell_type": "code",
   "execution_count": 32,
   "metadata": {},
   "outputs": [
    {
     "name": "stdout",
     "output_type": "stream",
     "text": [
      "(1, 'Ana Concepción', 'Castillo', 'Corona', 33, 'Av.Robles, Tabasco, Mex', Decimal('999.99'))\n",
      "(2, 'Rafael', 'García', 'Rueda', 44, 'Av. Maya, Tabasco, Mex', Decimal('999.99'))\n",
      "(3, 'Dulce Mónica', 'Escalante', 'Garrido', 30, 'Av. Olmeca, Campeche, Mex', Decimal('999.99'))\n",
      "(4, 'Maria Dolores', 'Taracena', 'Blé', 31, 'Av. Palenque, Chiapas, Mex', Decimal('999.99'))\n"
     ]
    },
    {
     "data": {
      "text/plain": [
       "True"
      ]
     },
     "execution_count": 32,
     "metadata": {},
     "output_type": "execute_result"
    }
   ],
   "source": [
    "otroCursor = mydb.cursor()\n",
    "\n",
    "otroCursor.execute(\"SELECT * FROM PROFESOR\")\n",
    "\n",
    "consulta = otroCursor.fetchall()\n",
    "\n",
    "for fila in consulta:\n",
    "    print(fila)\n",
    "    \n",
    "otroCursor.close()"
   ]
  },
  {
   "cell_type": "code",
   "execution_count": 39,
   "metadata": {
    "scrolled": false
   },
   "outputs": [
    {
     "data": {
      "text/plain": [
       "True"
      ]
     },
     "execution_count": 39,
     "metadata": {},
     "output_type": "execute_result"
    }
   ],
   "source": [
    "cursorDelete = mydb.cursor()\n",
    "cursorDelete.execute(\"DROP DATABASE asistente\")\n",
    "cursorDelete.close()"
   ]
  },
  {
   "cell_type": "code",
   "execution_count": 41,
   "metadata": {},
   "outputs": [],
   "source": [
    "import cx_Oracle\n",
    "\n",
    "## DATOS DE CONEXIÓN\n",
    "dsn_tns = cx_Oracle.makedsn('python.c7rbflvluzyk.us-east-2.rds.amazonaws.com', '1521', 'ORCL')\n",
    "BasedeDatos = cx_Oracle.connect(user='PYTHON_INTERMEDIO', password='python', dsn=dsn_tns)"
   ]
  },
  {
   "cell_type": "code",
   "execution_count": 42,
   "metadata": {},
   "outputs": [
    {
     "ename": "OperationalError",
     "evalue": "ORA-03113: end-of-file on communication channel\nProcess ID: 24979\nSession ID: 35 Serial number: 140733193396560",
     "output_type": "error",
     "traceback": [
      "\u001b[0;31m---------------------------------------------------------------------------\u001b[0m",
      "\u001b[0;31mOperationalError\u001b[0m                          Traceback (most recent call last)",
      "\u001b[0;32m<ipython-input-42-e05fd269250a>\u001b[0m in \u001b[0;36m<module>\u001b[0;34m()\u001b[0m\n\u001b[1;32m     12\u001b[0m                                 \u001b[0mDOMICILIO\u001b[0m \u001b[0mVARCHAR2\u001b[0m\u001b[0;34m(\u001b[0m\u001b[0;36m100\u001b[0m\u001b[0;34m)\u001b[0m\u001b[0;34m,\u001b[0m\u001b[0;34m\u001b[0m\u001b[0m\n\u001b[1;32m     13\u001b[0m                                 SALARIO NUMBER(10,2))\n\u001b[0;32m---> 14\u001b[0;31m                                 \"\"\" )\n\u001b[0m\u001b[1;32m     15\u001b[0m \u001b[0;34m\u001b[0m\u001b[0m\n\u001b[1;32m     16\u001b[0m \u001b[0;34m\u001b[0m\u001b[0m\n",
      "\u001b[0;31mOperationalError\u001b[0m: ORA-03113: end-of-file on communication channel\nProcess ID: 24979\nSession ID: 35 Serial number: 140733193396560"
     ]
    }
   ],
   "source": [
    "## CREACIÓN DE LA TABLA O ENTIDAD\n",
    "\n",
    "# Para poder ejecutar un comando SQL dentro de Python usaremos: el objeto BaseDeDatos, tiene un objeto cursor\n",
    "## Y este a su vez tiene un método llamado Execute que ejecuta un SQL en forma de cadena String.\n",
    "\n",
    "BasedeDatos.cursor().execute(\"\"\"CREATE TABLE PROFESOR(\n",
    "                                ID number (10,0) NOT NULL,\n",
    "                                NOMBRE VARCHAR2(30),\n",
    "                                APELLIDO_PAT VARCHAR2(30),\n",
    "                                APELLIDO_MAT VARCHAR2(30),\n",
    "                                EDAD NUMBER(3,0),\n",
    "                                DOMICILIO VARCHAR2(100),\n",
    "                                SALARIO NUMBER(10,2))\n",
    "                                \"\"\" )\n",
    "\n",
    "BasedeDatos.autocommit = True  ## PARA QUE GUARDE LOS CAMBIOS AUTOMÁTICAMENTE"
   ]
  },
  {
   "cell_type": "code",
   "execution_count": null,
   "metadata": {},
   "outputs": [],
   "source": [
    "# INSERCIÓN DE DATOS\n",
    "## Imaginemos que creamos objetos de tipo profesor con estos atributos\n",
    "\n",
    "class Profesor:\n",
    "    def __init__(self,id,nombre,apellido_pat,apellido_mat,edad,domicilio,salario):\n",
    "        self.id = id\n",
    "        self.nombre = nombre\n",
    "        self.apellido_pat = apellido_pat\n",
    "        self.apellido_mat = apellido_mat\n",
    "        self.edad = edad\n",
    "        self.domicilio = domicilio\n",
    "        self.salario = salario\n",
    "\n",
    "## creamos a missConchi, a mrRafa, a missDulce y a missLoli, todos objetos de tipo Profesor\n",
    "\n",
    "missConchi = Profesor(1,'Ana Concepción','Castillo','Corona',33,'Av.Robles, Tabasco, Mex',13000)\n",
    "mrRafa     = Profesor(2,'Rafael','García','Rueda',44,'Av. Maya, Tabasco, Mex',12000)\n",
    "missDulce  = Profesor(3,'Dulce Mónica','Escalante','Garrido',30,'Av. Olmeca, Campeche, Mex',12000)\n",
    "missLoli   = Profesor(4,'Maria Dolores','Taracena','Blé',31,'Av. Palenque, Chiapas, Mex',15000)\n",
    "\n",
    "# Hacemos una lista de profesores\n",
    "\n",
    "listaDeProfesores = [missConchi,mrRafa,missDulce,missLoli]"
   ]
  },
  {
   "cell_type": "code",
   "execution_count": null,
   "metadata": {},
   "outputs": [],
   "source": [
    "sqls = [] # Y una lista para poder poner nuestras cadenas de texto SQL\n",
    "\n",
    "#Ahora hacemos los strings SQL para ver qué tal quedan\n",
    "\n",
    "for profe in listaDeProfesores:\n",
    "    comandosql = 'INSERT INTO PROFESOR VALUES ('+str(profe.id)+',\\''+profe.nombre+'\\',\\''+profe.apellido_pat+'\\',\\''+profe.apellido_mat+'\\','+str(profe.edad)+',\\''+profe.domicilio+'\\','+str(profe.salario)+')'\n",
    "    print(comandosql)\n",
    "    sqls.append(comandosql)\n",
    "\n",
    "for comandos in sqls:\n",
    "    BasedeDatos.cursor().execute(comandos)"
   ]
  },
  {
   "cell_type": "code",
   "execution_count": 110,
   "metadata": {},
   "outputs": [
    {
     "name": "stdout",
     "output_type": "stream",
     "text": [
      "(1, 'Ana Concepción', 'Castillo', 'Corona', 33, 'Av.Robles, Tabasco, Mex', 13000.0)\n",
      "(2, 'Rafael', 'García', 'Rueda', 44, 'Av. Maya, Tabasco, Mex', 12000.0)\n",
      "(3, 'Dulce Mónica', 'Escalante', 'Garrido', 30, 'Av. Olmeca, Campeche, Mex', 12000.0)\n",
      "(4, 'Maria Dolores', 'Taracena', 'Blé', 31, 'Av. Palenque, Chiapas, Mex', 15000.0)\n"
     ]
    }
   ],
   "source": [
    "## RECUPERAR INFORMACIÓN DE ESA BASE DE DATOS\n",
    "\n",
    "cursor = BasedeDatos.cursor() ## El curso se utiliza para recorrer cada fila\n",
    "cursor.execute('SELECT * FROM PROFESOR') # Ejecuta la instrucción SQL\n",
    "\n",
    "\n",
    "for fila in cursor: ## Para cada fila que encuentre en la tabla(s)\n",
    "    print(fila)\n",
    "\n",
    "BasedeDatos.cursor().close()"
   ]
  },
  {
   "cell_type": "code",
   "execution_count": null,
   "metadata": {},
   "outputs": [],
   "source": []
  }
 ],
 "metadata": {
  "kernelspec": {
   "display_name": "Python 3",
   "language": "python",
   "name": "python3"
  },
  "language_info": {
   "codemirror_mode": {
    "name": "ipython",
    "version": 3
   },
   "file_extension": ".py",
   "mimetype": "text/x-python",
   "name": "python",
   "nbconvert_exporter": "python",
   "pygments_lexer": "ipython3",
   "version": "3.6.5"
  }
 },
 "nbformat": 4,
 "nbformat_minor": 2
}
