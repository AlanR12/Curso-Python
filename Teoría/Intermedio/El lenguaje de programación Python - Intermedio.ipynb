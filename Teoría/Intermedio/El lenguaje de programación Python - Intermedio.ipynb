{
 "cells": [
  {
   "cell_type": "markdown",
   "metadata": {},
   "source": [
    "# El lenguaje de programación Python🐍 - Intermedio"
   ]
  },
  {
   "cell_type": "markdown",
   "metadata": {},
   "source": [
    " **<div style=\"text-align: right\"> Samuel Arturo Garrido Sánchez</div>**"
   ]
  },
  {
   "cell_type": "markdown",
   "metadata": {},
   "source": [
    "Python es un lenguaje de programación **multiparadigma**, muy útil para demasiadas ramas de la investigación, desarrollos y procesos. \n",
    "Su filosofía radica en un código legible que cualquier persona no enfocada en el área de programación, pueda comprender."
   ]
  },
  {
   "cell_type": "markdown",
   "metadata": {},
   "source": [
    "![](img/let.png)"
   ]
  },
  {
   "cell_type": "markdown",
   "metadata": {},
   "source": [
    "# ¿Qué es Python?"
   ]
  },
  {
   "cell_type": "markdown",
   "metadata": {},
   "source": [
    "Python es un lenguaje de programación interpretado cuya filosofía hace hincapié en la legibilidad de su código.\n",
    "\n",
    "Se trata de un lenguaje de programación multiparadigma, ya que soporta orientación a objetos, programación imperativa y, en menor medida, programación funcional. Es un lenguaje interpretado, dinámico y multiplataforma."
   ]
  },
  {
   "cell_type": "markdown",
   "metadata": {},
   "source": [
    "Es administrado por la Python Software Foundation. Posee una licencia de código abierto, denominada Python Software Foundation License, que es compatible con la Licencia pública general de GNU a partir de la versión 2.1.1, e incompatible en ciertas versiones anteriores.\n",
    "\n",
    "![](img/python.jpg)"
   ]
  },
  {
   "cell_type": "markdown",
   "metadata": {},
   "source": [
    "### Las ventajas de Python pueden ser muchas pero en las que destacan:"
   ]
  },
  {
   "cell_type": "markdown",
   "metadata": {},
   "source": [
    "- La cantidad de bibliotecas que contiene, tipos de datos y funciones incorporadas en el propio lenguaje, que ayudan a realizar muchas tareas habituales sin necesidad de tener que programarlas desde cero.\n",
    "\n",
    "- La sencillez y velocidad con la que se crean los programas. Un programa en Python puede tener de 3 a 5 líneas de código menos que su equivalente en Java o C.\n",
    "\n",
    "- La cantidad de plataformas en las que podemos desarrollar, como Unix, Windows, OS/2, Mac, Amiga y otros.\n",
    "\n",
    "- Además, Python es gratuito, incluso para propósitos empresariales."
   ]
  },
  {
   "cell_type": "markdown",
   "metadata": {},
   "source": [
    "## Expresiones Regulares 📝\n",
    "\n",
    "Una expresión regular es un modelo con el que el motor de expresiones regulares intenta buscar una coincidencia en el texto de entrada. Un modelo consta de uno o más literales de carácter, operadores o estructuras.\n",
    "\n",
    "**En otras palabras, buscamos patrones.**\n",
    "\n",
    "Digamos que somos desarrolladores de software en una compañía donde un programa nos genera un **LOG** (traducción: Bitácora) y este es un texto largo largo largo. Un log es como el chismógrafo donde cada acción que hagas o los printf() que coloque el programador van al registro, como su nombre lo dice, una bitácora.\n",
    "\n",
    "Ejemplo:\n",
    "\n",
    "    109.169.248.247 - - [12/Dec/2015:18:25:11 +0100] \"GET /administrator/ HTTP/1.1\" 200 4263 \n",
    "    109.169.248.247 - - [13/Dec/2015:18:25:11 +0100] \"POST /administrator/index.php HTTP/1.1\" 200 4494 \n",
    "    46.72.177.4 - - [15/Dec/2015:18:31:08 +0100] \"GET /administrator/ HTTP/1.1\" 200 4263 \n",
    "    46.72.177.4 - - [15/Dec/2015:18:31:08 +0100] \"POST /administrator/index.php HTTP/1.1\" 200 4494\n",
    "    83.167.113.100 - - [17/Dec/2015:18:31:25 +0100] \"GET /administrator/ HTTP/1.1\" 200 4263 \n",
    "    83.167.113.100 - - [18/Dec/2015:18:31:25 +0100] \"POST /administrator/index.php HTTP/1.1\" 200 4494 \n",
    "\n",
    "Si su trabajo consistiera en, tengo un archivo con más de 100 Millones de éstas líneas, me respondan las siguientes preguntas:\n",
    "\n",
    "- ¿Cuántas conexiones se realizaron del 12 al 15 de Diciembre por /administrator y con el método POST?\n",
    "- ¿Cuántas conexiones GET de usuarios que no sean GET se realizaron en horario de 9 am a 4 pm?\n",
    "- ¿Cuántas conexiones fueron exitosas (Código 200) el 24 y 25 de Diciembre en horario nocturno (9 pm a 7 am)?\n",
    "\n",
    "### ¿Nos ponemos a contar? 🤯 \n",
    "\n",
    "Quien no tenga nada que hacer en cuarentena, adelante. Sin embargo podríamos calcularlo con solo unas cuántas líneas de código. Lo veremos más adelante, mientras tanto lo básico."
   ]
  },
  {
   "cell_type": "markdown",
   "metadata": {},
   "source": [
    "Python tiene un paquete incorporado llamado **re**, que se puede usar para trabajar con expresiones regulares.\n",
    "Puedes comenzar a usar expresiones regulares usando el módulo **re**.\n",
    "\n",
    "**Funciones incluidas en el paquete:**\n",
    "\n",
    "\n",
    "- `findall`: Devuelve una lista que contiene todas las coincidencias\n",
    "- `search`:\t Devuelve un objeto Match si hay una coincidencia en cualquier parte de la cadena\n",
    "- `split`:\t Devuelve una lista donde la cadena se ha dividido en cada coincidencia\n",
    "- `sub`:\t Reemplaza una o varias coincidencias con una cadena\n",
    "- `match`:\t Determina si la expresión coincide al principio de la cadena"
   ]
  },
  {
   "cell_type": "code",
   "execution_count": 14,
   "metadata": {},
   "outputs": [
    {
     "name": "stdout",
     "output_type": "stream",
     "text": [
      "['11', '12']\n",
      "Si, hay al menos una coincidencia!\n"
     ]
    }
   ],
   "source": [
    "import re\n",
    "\n",
    "p = re.compile(r'\\d+')\n",
    "\n",
    "x = p.findall('11 es un número y 12 también')\n",
    "print(x)\n",
    "\n",
    "if x:\n",
    "    print(\"Si, hay al menos una coincidencia!\")\n",
    "else:\n",
    "    print(\"No hay coincidencias\")"
   ]
  },
  {
   "cell_type": "code",
   "execution_count": 13,
   "metadata": {},
   "outputs": [
    {
     "name": "stdout",
     "output_type": "stream",
     "text": [
      "NO es válida ❌\n"
     ]
    }
   ],
   "source": [
    "expresion = \"(^[a-zA-Z0-9_.+-]+@[a-zA-Z0-9-]+\\.[a-zA-Z0-9-.]+$)\"\n",
    "\n",
    "correo = \"correo.proteco_4*@dominio.com\"\n",
    "\n",
    "if re.match(expresion, correo) is None:\n",
    "    print(\"NO es válida ❌\")\n",
    "else:\n",
    "    print(\"Es válida ✅\")"
   ]
  },
  {
   "cell_type": "code",
   "execution_count": null,
   "metadata": {},
   "outputs": [],
   "source": []
  }
 ],
 "metadata": {
  "kernelspec": {
   "display_name": "Python 3",
   "language": "python",
   "name": "python3"
  },
  "language_info": {
   "codemirror_mode": {
    "name": "ipython",
    "version": 3
   },
   "file_extension": ".py",
   "mimetype": "text/x-python",
   "name": "python",
   "nbconvert_exporter": "python",
   "pygments_lexer": "ipython3",
   "version": "3.6.5"
  }
 },
 "nbformat": 4,
 "nbformat_minor": 2
}
